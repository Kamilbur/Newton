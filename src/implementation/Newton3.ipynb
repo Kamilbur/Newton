{
  "cells": [
    {
      "cell_type": "markdown",
      "metadata": {
        "id": "OuQcHwswLpOe"
      },
      "source": [
        "<font size=\"10\" style=\"font-family: Computer Modern\">\n",
        "Wielowymiarowa iteracyjna metoda Newtona rozwiązywania równań nieliniowych\n",
        "</font>"
      ]
    },
    {
      "cell_type": "code",
      "execution_count": 1,
      "metadata": {
        "colab": {
          "base_uri": "https://localhost:8080/"
        },
        "id": "ha0d9pSIOLUH",
        "outputId": "a43c62d2-9f03-46be-d900-eedc7ff19ec7"
      },
      "outputs": [
        {
          "output_type": "stream",
          "name": "stdout",
          "text": [
            "Requirement already satisfied: contourpy==1.1.1 in /usr/local/lib/python3.10/dist-packages (from -r requirements.txt (line 1)) (1.1.1)\n",
            "Requirement already satisfied: cycler==0.12.1 in /usr/local/lib/python3.10/dist-packages (from -r requirements.txt (line 2)) (0.12.1)\n",
            "Requirement already satisfied: fonttools==4.43.1 in /usr/local/lib/python3.10/dist-packages (from -r requirements.txt (line 3)) (4.43.1)\n",
            "Requirement already satisfied: imageio==2.31.5 in /usr/local/lib/python3.10/dist-packages (from -r requirements.txt (line 4)) (2.31.5)\n",
            "Collecting jax[cpu]==0.4.13 (from -r requirements.txt (line 5))\n",
            "  Downloading jax-0.4.13.tar.gz (1.3 MB)\n",
            "     ━━━━━━━━━━━━━━━━━━━━━━━━━━━━━━━━━━━━━━━━ 1.3/1.3 MB 9.2 MB/s eta 0:00:00\n",
            "  Installing build dependencies: started\n",
            "  Installing build dependencies: finished with status 'done'\n",
            "  Getting requirements to build wheel: started\n",
            "  Getting requirements to build wheel: finished with status 'done'\n",
            "  Preparing metadata (pyproject.toml): started\n",
            "  Preparing metadata (pyproject.toml): finished with status 'done'\n",
            "Collecting jaxlib==0.4.13 (from -r requirements.txt (line 6))\n",
            "  Downloading jaxlib-0.4.13-cp310-cp310-manylinux2014_x86_64.whl (71.6 MB)\n",
            "     ━━━━━━━━━━━━━━━━━━━━━━━━━━━━━━━━━━━━━━━━ 71.6/71.6 MB 10.5 MB/s eta 0:00:00\n",
            "Requirement already satisfied: kiwisolver==1.4.5 in /usr/local/lib/python3.10/dist-packages (from -r requirements.txt (line 7)) (1.4.5)\n",
            "Requirement already satisfied: lazy_loader==0.3 in /usr/local/lib/python3.10/dist-packages (from -r requirements.txt (line 8)) (0.3)\n",
            "Requirement already satisfied: matplotlib==3.7.1 in /usr/local/lib/python3.10/dist-packages (from -r requirements.txt (line 9)) (3.7.1)\n",
            "Requirement already satisfied: ml-dtypes==0.3.1 in /usr/local/lib/python3.10/dist-packages (from -r requirements.txt (line 10)) (0.3.1)\n",
            "Collecting mnist==0.2.2 (from -r requirements.txt (line 11))\n",
            "  Downloading mnist-0.2.2-py2.py3-none-any.whl (3.5 kB)\n",
            "Requirement already satisfied: networkx==3.1 in /usr/local/lib/python3.10/dist-packages (from -r requirements.txt (line 12)) (3.1)\n",
            "Collecting numpy==1.26.1 (from -r requirements.txt (line 13))\n",
            "  Downloading numpy-1.26.1-cp310-cp310-manylinux_2_17_x86_64.manylinux2014_x86_64.whl (18.2 MB)\n",
            "     ━━━━━━━━━━━━━━━━━━━━━━━━━━━━━━━━━━━━━━━━ 18.2/18.2 MB 46.1 MB/s eta 0:00:00\n",
            "Requirement already satisfied: opt-einsum==3.3.0 in /usr/local/lib/python3.10/dist-packages (from -r requirements.txt (line 14)) (3.3.0)\n",
            "Requirement already satisfied: packaging==23.2 in /usr/local/lib/python3.10/dist-packages (from -r requirements.txt (line 15)) (23.2)\n",
            "Collecting Pillow==10.1.0 (from -r requirements.txt (line 16))\n",
            "  Downloading Pillow-10.1.0-cp310-cp310-manylinux_2_28_x86_64.whl (3.6 MB)\n",
            "     ━━━━━━━━━━━━━━━━━━━━━━━━━━━━━━━━━━━━━━━━ 3.6/3.6 MB 71.8 MB/s eta 0:00:00\n",
            "Requirement already satisfied: pyparsing==3.1.1 in /usr/local/lib/python3.10/dist-packages (from -r requirements.txt (line 17)) (3.1.1)\n",
            "Requirement already satisfied: python-dateutil==2.8.2 in /usr/local/lib/python3.10/dist-packages (from -r requirements.txt (line 18)) (2.8.2)\n",
            "Collecting scikit-image==0.22.0 (from -r requirements.txt (line 19))\n",
            "  Downloading scikit_image-0.22.0-cp310-cp310-manylinux_2_17_x86_64.manylinux2014_x86_64.whl (14.7 MB)\n",
            "     ━━━━━━━━━━━━━━━━━━━━━━━━━━━━━━━━━━━━━━━━ 14.7/14.7 MB 54.4 MB/s eta 0:00:00\n",
            "Requirement already satisfied: scipy==1.11.3 in /usr/local/lib/python3.10/dist-packages (from -r requirements.txt (line 20)) (1.11.3)\n",
            "Requirement already satisfied: six==1.16.0 in /usr/local/lib/python3.10/dist-packages (from -r requirements.txt (line 21)) (1.16.0)\n",
            "Requirement already satisfied: tifffile==2023.9.26 in /usr/local/lib/python3.10/dist-packages (from -r requirements.txt (line 22)) (2023.9.26)\n",
            "Requirement already satisfied: tqdm==4.66.1 in /usr/local/lib/python3.10/dist-packages (from -r requirements.txt (line 23)) (4.66.1)\n",
            "Building wheels for collected packages: jax\n",
            "  Building wheel for jax (pyproject.toml): started\n",
            "  Building wheel for jax (pyproject.toml): finished with status 'done'\n",
            "  Created wheel for jax: filename=jax-0.4.13-py3-none-any.whl size=1518704 sha256=f9b59d391d0dc5cbfa90e95ce13683018f67f91c8a569b70013c07f5210238b6\n",
            "  Stored in directory: /root/.cache/pip/wheels/f3/7a/25/f297f69029b5e4064e4736a0c4b3996a44cc27781c120bcb99\n",
            "Successfully built jax\n",
            "Installing collected packages: Pillow, numpy, mnist, scikit-image, jaxlib, jax\n",
            "  Attempting uninstall: Pillow\n",
            "    Found existing installation: Pillow 9.4.0\n",
            "    Uninstalling Pillow-9.4.0:\n",
            "      Successfully uninstalled Pillow-9.4.0\n",
            "  Attempting uninstall: numpy\n",
            "    Found existing installation: numpy 1.23.5\n",
            "    Uninstalling numpy-1.23.5:\n",
            "      Successfully uninstalled numpy-1.23.5\n",
            "  Attempting uninstall: scikit-image\n",
            "    Found existing installation: scikit-image 0.19.3\n",
            "    Uninstalling scikit-image-0.19.3:\n",
            "      Successfully uninstalled scikit-image-0.19.3\n",
            "  Attempting uninstall: jaxlib\n",
            "    Found existing installation: jaxlib 0.4.16+cuda11.cudnn86\n",
            "    Uninstalling jaxlib-0.4.16+cuda11.cudnn86:\n",
            "      Successfully uninstalled jaxlib-0.4.16+cuda11.cudnn86\n",
            "  Attempting uninstall: jax\n",
            "    Found existing installation: jax 0.4.16\n",
            "    Uninstalling jax-0.4.16:\n",
            "      Successfully uninstalled jax-0.4.16\n",
            "Successfully installed Pillow-10.1.0 jax-0.4.13 jaxlib-0.4.13 mnist-0.2.2 numpy-1.26.1 scikit-image-0.22.0\n"
          ]
        },
        {
          "output_type": "stream",
          "name": "stderr",
          "text": [
            "ERROR: pip's dependency resolver does not currently take into account all the packages that are installed. This behaviour is the source of the following dependency conflicts.\n",
            "lida 0.0.10 requires fastapi, which is not installed.\n",
            "lida 0.0.10 requires kaleido, which is not installed.\n",
            "lida 0.0.10 requires python-multipart, which is not installed.\n",
            "lida 0.0.10 requires uvicorn, which is not installed.\n",
            "cupy-cuda11x 11.0.0 requires numpy<1.26,>=1.20, but you have numpy 1.26.1 which is incompatible.\n",
            "numba 0.56.4 requires numpy<1.24,>=1.18, but you have numpy 1.26.1 which is incompatible.\n",
            "tensorflow 2.13.0 requires numpy<=1.24.3,>=1.22, but you have numpy 1.26.1 which is incompatible.\n"
          ]
        }
      ],
      "source": [
        "%%bash\n",
        "\n",
        "cat > requirements.txt <<EOF\n",
        "contourpy==1.1.1\n",
        "cycler==0.12.1\n",
        "fonttools==4.43.1\n",
        "imageio==2.31.5\n",
        "jax[cpu]==0.4.13\n",
        "jaxlib==0.4.13\n",
        "kiwisolver==1.4.5\n",
        "lazy_loader==0.3\n",
        "matplotlib==3.7.1\n",
        "ml-dtypes==0.3.1\n",
        "mnist==0.2.2\n",
        "networkx==3.1\n",
        "numpy==1.26.1\n",
        "opt-einsum==3.3.0\n",
        "packaging==23.2\n",
        "Pillow==10.1.0\n",
        "pyparsing==3.1.1\n",
        "python-dateutil==2.8.2\n",
        "scikit-image==0.22.0\n",
        "scipy==1.11.3\n",
        "six==1.16.0\n",
        "tifffile==2023.9.26\n",
        "tqdm==4.66.1\n",
        "EOF\n",
        "\n",
        "python3 -m pip install -r requirements.txt"
      ]
    },
    {
      "cell_type": "code",
      "execution_count": 2,
      "metadata": {
        "id": "7imRSN07ONYc"
      },
      "outputs": [],
      "source": [
        "import numpy.typing as npt\n",
        "import numpy as np\n",
        "import jax.numpy as jnp\n",
        "import matplotlib.pyplot as plt\n",
        "import matplotlib as mpl\n",
        "import mnist\n",
        "import skimage\n",
        "import itertools\n",
        "import functools\n",
        "import logging\n",
        "import random\n",
        "import sys\n",
        "import gc\n",
        "\n",
        "from typing import Type\n",
        "from jax import jacobian, grad\n",
        "from tqdm import tqdm\n",
        "from abc import ABC, abstractmethod\n",
        "from dataclasses import dataclass\n",
        "from collections import namedtuple"
      ]
    },
    {
      "cell_type": "code",
      "execution_count": 3,
      "metadata": {
        "id": "fMTFYgPsOOEi"
      },
      "outputs": [],
      "source": [
        "logging.getLogger(\"jax\").setLevel(logging.ERROR)\n",
        "logging.getLogger(\"matplotlib\").setLevel(logging.ERROR)"
      ]
    },
    {
      "cell_type": "markdown",
      "metadata": {
        "id": "Tjhi_GvdOQ-T"
      },
      "source": [
        "<font size=\"9\" style=\"font-family: Computer Modern\">\n",
        "Sieć neuronowa z użyciem metody Newtona\n",
        "</font>"
      ]
    },
    {
      "cell_type": "code",
      "execution_count": 4,
      "metadata": {
        "id": "zmnRm29BJgoi"
      },
      "outputs": [],
      "source": [
        "def central_gradient(f):\n",
        "    def func(ws):\n",
        "        n = len(ws)\n",
        "        eps = np.finfo(np.float32).eps ** 0.5\n",
        "        diff = np.eye(n) * eps\n",
        "        gradient = np.zeros(n)\n",
        "        denom = 1. / (2. * eps)\n",
        "\n",
        "        for i in range(n):\n",
        "            gradient[i] = denom * (f(ws + diff[i]) - f(ws - diff[i]))\n",
        "\n",
        "        return gradient\n",
        "    return func\n",
        "\n",
        "def central_hessian(f):\n",
        "    def func(ws):\n",
        "        n = len(ws)\n",
        "        eps = np.finfo(np.float32).eps ** 0.5\n",
        "        diff = np.eye(n) * eps\n",
        "        J = np.zeros((n, n))\n",
        "        denom = 1.0 / (4.0 * eps ** 2)\n",
        "        for i in range(n):\n",
        "            for j in range(n):\n",
        "                J[i][j] = denom * (f(ws + diff[i] + diff[j])\n",
        "                                    - f(ws + diff[i] - diff[j])\n",
        "                                    - f(ws - diff[i] + diff[j])\n",
        "                                    + f(ws - diff[i] - diff[j]))\n",
        "\n",
        "        return J\n",
        "    return func"
      ]
    },
    {
      "cell_type": "code",
      "execution_count": 5,
      "metadata": {
        "id": "zP9XGgxyJnoU"
      },
      "outputs": [],
      "source": [
        "Layer = namedtuple('Layer', 'into, out, activation, dropout_rate')\n",
        "Weights = npt.NDArray[np.float32]\n",
        "# LossFunction = Callable[[], np.float32]\n",
        "# CostFunction = Callable[[npt.NDArray[np.float32]], np.float32]\n",
        "\n",
        "@dataclass\n",
        "class Metrics:\n",
        "    accuracy: float\n",
        "    precision: float\n",
        "    recall: float\n",
        "\n",
        "    @classmethod\n",
        "    def get(cls, nn, X, Y, label_function):\n",
        "        \"\"\"\n",
        "        label_function takes output of model and returns associated label\n",
        "        \"\"\"\n",
        "        tp = 0\n",
        "        tn = 0\n",
        "        fp = 0\n",
        "        fn = 0\n",
        "\n",
        "        labels = label_function(nn.predict(X))\n",
        "        for label, y in zip(labels, Y):\n",
        "            if label != y:\n",
        "                if label:\n",
        "                    fp += 1\n",
        "                else:\n",
        "                    fn += 1\n",
        "            else:\n",
        "                if label:\n",
        "                    tp += 1\n",
        "                else:\n",
        "                    tn += 1\n",
        "        accuracy = float(tp + tn) / len(X)\n",
        "        precision = float(tp) / (tp + fp)\n",
        "        recall = float(tp) / (tp + fn)\n",
        "        return cls(accuracy=accuracy, precision=precision, recall=recall)\n",
        "\n",
        "\n",
        "\n",
        "class Optimizer(ABC):\n",
        "    def __init__(self):\n",
        "        pass\n",
        "\n",
        "    @abstractmethod\n",
        "    def __call__(self, weigths, rate: float = 1.0):\n",
        "        pass\n",
        "\n",
        "\n",
        "class NN():\n",
        "    def __init__(self, cost, layers):\n",
        "        self.cost = cost\n",
        "        self.layers = layers\n",
        "        self.weights: Weights = self._initialize_weights()\n",
        "        self.losses = []\n",
        "\n",
        "\n",
        "    @staticmethod\n",
        "    def sigmoid(x):\n",
        "        return 1.0 / (1.0 + jnp.exp(-x))\n",
        "\n",
        "    @staticmethod\n",
        "    def ReLU(x):\n",
        "        return jnp.where(x > 0, x, 0)\n",
        "\n",
        "    def _initialize_weights(self):\n",
        "        wsize = 0\n",
        "        for layer in self.layers:\n",
        "            inn = layer[0]\n",
        "            out = layer[1]\n",
        "            wsize += inn * out + out\n",
        "\n",
        "        return np.random.uniform(low=-1.0, high=1.0, size=wsize).astype(np.float32)\n",
        "\n",
        "\n",
        "    def weights_at(self, weights: Weights):\n",
        "        skipped = 0\n",
        "        for layer in self.layers:\n",
        "            inn = layer[0]\n",
        "            out = layer[1]\n",
        "            biasize = layer[1]\n",
        "            A = weights[skipped: skipped + inn * out]\n",
        "            skipped += inn * out\n",
        "            A = A.reshape((inn, out))\n",
        "            b = weights[skipped: skipped + biasize]\n",
        "            skipped += biasize\n",
        "\n",
        "            yield A, b\n",
        "\n",
        "\n",
        "    def _feed_forward(self, inp, weights: Weights, train=False):\n",
        "        for ws, layer in zip(self.weights_at(weights), self.layers):\n",
        "            A, b = ws\n",
        "            fact = layer[2]\n",
        "            inp = fact(inp @ A + b)\n",
        "            dropout_rate = layer[3]\n",
        "            if train and dropout_rate > 0:\n",
        "                dropout_mask = np.random.uniform(low=0.0, high=1.0) > dropout_rate\n",
        "                inp = inp * dropout_mask\n",
        "        return inp\n",
        "\n",
        "    def predict(self, inp):\n",
        "        return self._feed_forward(inp, self.weights, train=False)\n",
        "\n",
        "\n",
        "    def fit(self,\n",
        "            X, Y, optimizer_class: Type[Optimizer],\n",
        "            epochs: int = 1,\n",
        "            batch_size: int = 1,\n",
        "            rate: float = 1.0,\n",
        "            rate_decrease: float = -1.0):\n",
        "\n",
        "        self.losses = []\n",
        "        self.calculate_and_log_loss(X, Y)\n",
        "\n",
        "\n",
        "        for i in range(epochs):\n",
        "            tqdm.write(f'epoch: {i + 1}/{epochs}')\n",
        "            self.epoch(X, Y, optimizer_class,\n",
        "                       batch_size=batch_size, rate=rate)\n",
        "\n",
        "            self.calculate_and_log_loss(X, Y)\n",
        "            if rate_decrease > 0:\n",
        "                rate = rate * rate_decrease\n",
        "\n",
        "    def calculate_and_log_loss(self, X, Y):\n",
        "        loss = self.evaluate(X, Y)\n",
        "        self.losses.append(loss)\n",
        "        tqdm.write(f'cost: {loss}')\n",
        "\n",
        "\n",
        "    def epoch(self,\n",
        "              X, Y, optimizer_class: Type[Optimizer],\n",
        "              batch_size: int = 1,\n",
        "              rate: float = 1.0):\n",
        "\n",
        "        Xbatches, Ybatches = self.batch_randomize_and_split(X, Y, batch_size)\n",
        "\n",
        "        pbar = tqdm(zip(Xbatches, Ybatches), leave=True, total=len(Xbatches))\n",
        "        for x, y in pbar:\n",
        "            cost = functools.partial(self._costed, x=x, y=y)\n",
        "            optimizer = optimizer_class(cost)\n",
        "            self.weights = optimizer(self.weights, rate)\n",
        "            gc.collect()\n",
        "        pbar.close()\n",
        "\n",
        "        self.dropout_scaling()\n",
        "\n",
        "    def dropout_scaling(self):\n",
        "        skipped = 0\n",
        "        for layer in self.layers:\n",
        "            dropout_rate = layer[3]\n",
        "            inn = layer[0]\n",
        "            out = layer[1]\n",
        "            to = skipped + (inn + 1) * out\n",
        "            const = 1 - dropout_rate\n",
        "            self.weights = self.weights.at[skipped: to].multiply(const)\n",
        "\n",
        "\n",
        "    def _costed(self, ws, x, y):\n",
        "        output = self._feed_forward(x, ws, train=True)\n",
        "        return self.cost(output, y)\n",
        "\n",
        "    @staticmethod\n",
        "    def mse(output, expected):\n",
        "        return jnp.mean((output - expected) ** 2)\n",
        "\n",
        "    def evaluate(self, X, Y):\n",
        "        out = self.predict(X)\n",
        "        return self.cost(out, Y)\n",
        "\n",
        "    def batch_randomize_and_split(self, X, Y, batch_size):\n",
        "        p = np.random.permutation(range(len(X)))\n",
        "        X = X[p]\n",
        "        Y = Y[p]\n",
        "        Xbatches = self.batch_split(X, batch_size)\n",
        "        Ybatches = self.batch_split(Y, batch_size)\n",
        "        return Xbatches, Ybatches\n",
        "\n",
        "    @staticmethod\n",
        "    def batch_split(a, batch_size):\n",
        "        n = len(a)\n",
        "        batches_num = n // batch_size\n",
        "        batches = [a[i * batch_size: (i + 1) * batch_size] for i in range(batches_num)]\n",
        "        if n % batch_size != 0:\n",
        "            batches.append(a[batches_num * batch_size: n])\n",
        "        return  batches\n",
        "\n",
        "    def plot_loss(self, ax, **kwargs):\n",
        "        ax.set_title('Loss', fontsize=24)\n",
        "        ax.set_xlabel('epoch', fontsize=16)\n",
        "        ax.set_ylabel('loss', fontsize=16)\n",
        "        ax.plot(self.losses, **kwargs)\n",
        "\n",
        "\n",
        "class NewtonOptimizer(Optimizer, ABC):\n",
        "    def __init__(self, cost):\n",
        "        super().__init__()\n",
        "        self.dcost = grad(cost)\n",
        "        self.jac = jacobian(self.dcost)\n",
        "\n",
        "\n",
        "    def __call__(self, weights: Weights, rate: float = 1.0):\n",
        "        return self.qwickroot(weights, rate)\n",
        "\n",
        "    def qwickroot(self, x0: np.ndarray, eps: float) -> np.ndarray:\n",
        "        fx0 = self.dcost(x0)\n",
        "        Df = self.jac(x0)\n",
        "        Df = self._positivedefinitize(Df)\n",
        "        Dfinv = self.inverse(Df)\n",
        "        dk = Dfinv @ fx0\n",
        "        x_next = x0 - eps * dk\n",
        "        return x_next\n",
        "\n",
        "    @abstractmethod\n",
        "    def inverse(self, A):\n",
        "        \"\"\" Matrix A can be assumed to be positive semi definite\n",
        "        \"\"\"\n",
        "\n",
        "    def _positivedefinitize(self, A, beta=1e-3):\n",
        "        \"\"\" It transform matrix to be positive definite, thus invertible\n",
        "        Method adapted from:\n",
        "        @Inbook{Nocedal2006,\n",
        "                title=\"Line Search Methods\",\n",
        "                bookTitle=\"Numerical Optimization\",\n",
        "                year=\"2006\",\n",
        "                publisher=\"Springer New York\",\n",
        "                address=\"New York, NY\",\n",
        "                pages=\"30--65\",\n",
        "                isbn=\"978-0-387-40065-5\",\n",
        "                doi=\"10.1007/978-0-387-40065-5_3\",\n",
        "                url=\"https://doi.org/10.1007/978-0-387-40065-5_3\"\n",
        "        }\n",
        "        \"\"\"\n",
        "\n",
        "        I = np.eye(len(A))\n",
        "        mini = np.min(np.diagonal(A))\n",
        "        t = 0.0\n",
        "        if mini == 0.0:\n",
        "            t = -mini + beta\n",
        "\n",
        "        while True:\n",
        "            try:\n",
        "                L = np.linalg.cholesky(A + t * I)\n",
        "            except np.linalg.LinAlgError:\n",
        "                t = max(2 * t, beta)\n",
        "            else:\n",
        "                break\n",
        "        return L\n",
        "\n",
        "class ExactNewtonOptimizer(NewtonOptimizer):\n",
        "    \"\"\" Computes exact jacobian inverse\n",
        "\n",
        "    It tends to be faster for higher dimensions.\n",
        "    \"\"\"\n",
        "\n",
        "    def inverse(self, A):\n",
        "        return np.linalg.inv(A)\n",
        "\n",
        "class InexactNewtonOptimizer(NewtonOptimizer):\n",
        "    \"\"\" Computes jacobian pseudoinverse\n",
        "\n",
        "    It tends to be faster for lower dimensions.\n",
        "    \"\"\"\n",
        "\n",
        "    def inverse(self, A):\n",
        "        try:\n",
        "            return np.linalg.pinv(A)\n",
        "        except np.linalg.LinAlgError:\n",
        "            return np.linalg.inv(A)\n",
        "\n",
        "class ExactAutoStepNewtonOptimizer(ExactNewtonOptimizer):\n",
        "    def __call__(self, weights: Weights, rate: float = 1.0):\n",
        "        return self.slowroot(weights)\n",
        "\n",
        "    def slowroot(self, x0: npt.NDArray) -> npt.NDArray:\n",
        "        fx0 = self.dcost(x0)\n",
        "        hx0 = fx0.T @ fx0\n",
        "        Df = self.jac(x0)\n",
        "        Df = self._positivedefinitize(Df)\n",
        "        Dfinv = self.inverse(Df)\n",
        "        dk = Dfinv @ fx0\n",
        "\n",
        "        gk = 1.0 / (jnp.linalg.norm(Dfinv) * jnp.linalg.norm(Df))\n",
        "\n",
        "        Dh_norm = jnp.linalg.norm(2.0 * fx0.T @ Df)\n",
        "        dk_norm = jnp.linalg.norm(dk)\n",
        "        const = 0.25 * gk * dk_norm * Dh_norm\n",
        "\n",
        "        for j in range(30):\n",
        "            power = 0.5 ** j\n",
        "            fxj = self.dcost(x0 - power * dk)\n",
        "            hxj = fxj.T @ fxj\n",
        "            dhx0 = hx0 - power * const\n",
        "            if dhx0 - hxj >= -1e-7:\n",
        "                break\n",
        "\n",
        "        x_next = x0\n",
        "        for i in range(0, j+1):\n",
        "            xi = x0 - 0.5 ** i * dk\n",
        "            fxn = self.dcost(xi)\n",
        "            hxn = fxn.T @ fxn\n",
        "            if hxn < hx0:\n",
        "                fx0 = fxn\n",
        "                hx0 = hxn\n",
        "                x_next = xi\n",
        "        return x_next\n",
        "\n",
        "\n",
        "\n",
        "\n",
        "class AutoGradientOptimizer(Optimizer):\n",
        "    def __init__(self, cost):\n",
        "        super().__init__()\n",
        "        self.dcost = grad(cost)\n",
        "\n",
        "    def __call__(self, weights: Weights, rate: float = 1.0):\n",
        "\n",
        "        dw = self.dcost(weights)\n",
        "        return weights - rate * dw\n",
        "\n",
        "class ForwardGradientOptimizer(Optimizer):\n",
        "    def __init__(self, cost):\n",
        "        super().__init__()\n",
        "        self.cost = cost\n",
        "\n",
        "    def __call__(self, weights: Weights, rate: float = 1.0):\n",
        "        \"\"\"\n",
        "        Machine epsilon was set according to\n",
        "        @incollection{numerical,\n",
        "            author={Press, WH and Teukolsky, SA and Vetterling, WT and Flannery, BP},\n",
        "            title={Numerical Recipes: The Art of Scientific Computing. 3rd ed},\n",
        "            year={2007},\n",
        "            chapter={5.7 Numerical Derivatives},\n",
        "            pages={230},\n",
        "            publisher={Cambridge University Press, Cambridge}\n",
        "        }\n",
        "        \"\"\"\n",
        "        eps = (np.finfo(np.float32).eps ** 0.5) * weights\n",
        "        mineps = 1e1 * np.finfo(np.float32).eps\n",
        "        eps = np.where(eps < mineps, mineps, eps)\n",
        "\n",
        "        n = len(weights)\n",
        "        I = np.eye(n)\n",
        "\n",
        "        for i in range(n):\n",
        "            dw = (self.cost(weights + I[i] * eps[i]) - self.cost(weights)) / eps[i]\n",
        "            weights -= rate * I[i] * dw\n",
        "\n",
        "        return weights\n",
        "\n",
        "class PerVariableOptimizer(Optimizer):\n",
        "    def __init__(self, cost):\n",
        "        super().__init__()\n",
        "        self.cost = cost\n",
        "\n",
        "    def __call__(self, weights: Weights, rate: float = 1.0):\n",
        "        n = len(weights)\n",
        "        I = np.eye(n)\n",
        "        for i in range(n):\n",
        "            fx = self.cost(weights)\n",
        "            dw = rate * I[i]\n",
        "            fxe = self.cost(weights + dw)\n",
        "            weights = weights - (fxe - fx) / rate\n",
        "\n",
        "        return weights\n"
      ]
    },
    {
      "cell_type": "markdown",
      "metadata": {
        "id": "OWv7gsQ3Ogf7"
      },
      "source": [
        "<font size=\"6\" style=\"font-family: Computer Modern\">\n",
        "Sieć neuronowa modelująca bitowy OR.\n",
        "</font>"
      ]
    },
    {
      "cell_type": "code",
      "execution_count": 6,
      "metadata": {
        "colab": {
          "base_uri": "https://localhost:8080/"
        },
        "id": "6SakPm63Jpoj",
        "outputId": "2477cdf7-b211-4579-a2a0-6b89ca0b6d9e"
      },
      "outputs": [
        {
          "output_type": "stream",
          "name": "stdout",
          "text": [
            "cost: 0.3155706822872162\n",
            "epoch: 1/10\n"
          ]
        },
        {
          "output_type": "stream",
          "name": "stderr",
          "text": [
            "100%|██████████| 5/5 [00:02<00:00,  1.98it/s]\n"
          ]
        },
        {
          "output_type": "stream",
          "name": "stdout",
          "text": [
            "cost: 0.09920070320367813\n",
            "epoch: 2/10\n"
          ]
        },
        {
          "output_type": "stream",
          "name": "stderr",
          "text": [
            "100%|██████████| 5/5 [00:01<00:00,  3.04it/s]\n"
          ]
        },
        {
          "output_type": "stream",
          "name": "stdout",
          "text": [
            "cost: 0.05841129273176193\n",
            "epoch: 3/10\n"
          ]
        },
        {
          "output_type": "stream",
          "name": "stderr",
          "text": [
            "100%|██████████| 5/5 [00:02<00:00,  1.84it/s]\n"
          ]
        },
        {
          "output_type": "stream",
          "name": "stdout",
          "text": [
            "cost: 0.03677552938461304\n",
            "epoch: 4/10\n"
          ]
        },
        {
          "output_type": "stream",
          "name": "stderr",
          "text": [
            "100%|██████████| 5/5 [00:01<00:00,  2.80it/s]\n"
          ]
        },
        {
          "output_type": "stream",
          "name": "stdout",
          "text": [
            "cost: 0.02405356429517269\n",
            "epoch: 5/10\n"
          ]
        },
        {
          "output_type": "stream",
          "name": "stderr",
          "text": [
            "100%|██████████| 5/5 [00:01<00:00,  3.98it/s]\n"
          ]
        },
        {
          "output_type": "stream",
          "name": "stdout",
          "text": [
            "cost: 0.01614859141409397\n",
            "epoch: 6/10\n"
          ]
        },
        {
          "output_type": "stream",
          "name": "stderr",
          "text": [
            "100%|██████████| 5/5 [00:01<00:00,  3.75it/s]\n"
          ]
        },
        {
          "output_type": "stream",
          "name": "stdout",
          "text": [
            "cost: 0.01187143288552761\n",
            "epoch: 7/10\n"
          ]
        },
        {
          "output_type": "stream",
          "name": "stderr",
          "text": [
            "100%|██████████| 5/5 [00:01<00:00,  3.12it/s]\n"
          ]
        },
        {
          "output_type": "stream",
          "name": "stdout",
          "text": [
            "cost: 0.00895601138472557\n",
            "epoch: 8/10\n"
          ]
        },
        {
          "output_type": "stream",
          "name": "stderr",
          "text": [
            "100%|██████████| 5/5 [00:01<00:00,  3.63it/s]\n"
          ]
        },
        {
          "output_type": "stream",
          "name": "stdout",
          "text": [
            "cost: 0.00678985146805644\n",
            "epoch: 9/10\n"
          ]
        },
        {
          "output_type": "stream",
          "name": "stderr",
          "text": [
            "100%|██████████| 5/5 [00:01<00:00,  3.14it/s]\n"
          ]
        },
        {
          "output_type": "stream",
          "name": "stdout",
          "text": [
            "cost: 0.00534164160490036\n",
            "epoch: 10/10\n"
          ]
        },
        {
          "output_type": "stream",
          "name": "stderr",
          "text": [
            "100%|██████████| 5/5 [00:01<00:00,  2.76it/s]"
          ]
        },
        {
          "output_type": "stream",
          "name": "stdout",
          "text": [
            "cost: 0.00428421888500452\n"
          ]
        },
        {
          "output_type": "stream",
          "name": "stderr",
          "text": [
            "\n"
          ]
        }
      ],
      "source": [
        "np.random.seed(1234)\n",
        "random.seed(1234)\n",
        "\n",
        "layers = [\n",
        "    Layer(2, 1, NN.sigmoid, dropout_rate=0),\n",
        "]\n",
        "\n",
        "nn = NN(NN.mse, layers)\n",
        "\n",
        "X = np.array(random.choices([np.array([0.0, 0.0]),\n",
        "                np.array([0.0, 1.0]),\n",
        "                np.array([1.0, 0.0]),\n",
        "                np.array([1.0, 1.0])], k=50)\n",
        ")\n",
        "Y = np.array([[float(int(a[0]) | int(a[1]))] for a in X])\n",
        "\n",
        "nn.fit(X, Y, InexactNewtonOptimizer, epochs=10, batch_size=10, rate=1.0)"
      ]
    },
    {
      "cell_type": "code",
      "execution_count": 7,
      "metadata": {
        "colab": {
          "base_uri": "https://localhost:8080/",
          "height": 736
        },
        "id": "Ht_drWnVJsym",
        "outputId": "cb0b7576-65c8-4e76-a52c-68efcf7fdd04"
      },
      "outputs": [
        {
          "output_type": "display_data",
          "data": {
            "text/plain": [
              "<Figure size 1000x800 with 1 Axes>"
            ],
            "image/png": "[encoded data removed]"
          },
          "metadata": {}
        }
      ],
      "source": [
        "fig, ax = plt.subplots(nrows=1, ncols=1, figsize=(10, 8), dpi=100)\n",
        "nn.plot_loss(ax)"
      ]
    },
    {
      "cell_type": "code",
      "execution_count": 8,
      "metadata": {
        "colab": {
          "base_uri": "https://localhost:8080/"
        },
        "id": "mwRMbkw2JufN",
        "outputId": "3a3a469a-0d9a-4779-8e0b-e92acd61e62d"
      },
      "outputs": [
        {
          "output_type": "execute_result",
          "data": {
            "text/plain": [
              "Array([ 5.642977 ,  5.462392 , -3.2570977], dtype=float32)"
            ]
          },
          "metadata": {},
          "execution_count": 8
        }
      ],
      "source": [
        "nn.weights"
      ]
    },
    {
      "cell_type": "code",
      "execution_count": 9,
      "metadata": {
        "colab": {
          "base_uri": "https://localhost:8080/"
        },
        "id": "bF69AKRjJwsR",
        "outputId": "709417dc-fbb0-4c18-fec7-54604293361c"
      },
      "outputs": [
        {
          "output_type": "stream",
          "name": "stdout",
          "text": [
            "OR(0, 0) = [0.03707267]\n",
            "OR(0, 1) = [0.90072393]\n",
            "OR(1, 0) = [0.9157442]\n",
            "OR(1, 1) = [0.99960977]\n"
          ]
        }
      ],
      "source": [
        "print(f'OR(0, 0) = {nn.predict(np.array([0.0, 0.0]))}')\n",
        "print(f'OR(0, 1) = {nn.predict(np.array([0.0, 1.0]))}')\n",
        "print(f'OR(1, 0) = {nn.predict(np.array([1.0, 0.0]))}')\n",
        "print(f'OR(1, 1) = {nn.predict(np.array([1.0, 1.0]))}')"
      ]
    },
    {
      "cell_type": "markdown",
      "metadata": {
        "id": "olIyTCxtKC8m"
      },
      "source": [
        "<font size=\"6\" style=\"font-family: Computer Modern\">\n",
        "Sieć neuronowa modelująca bitowy XOR.\n",
        "</font>"
      ]
    },
    {
      "cell_type": "code",
      "execution_count": 10,
      "metadata": {
        "colab": {
          "base_uri": "https://localhost:8080/"
        },
        "id": "uFKJspNeKDLi",
        "outputId": "3e624a80-8701-4011-e3fa-5dcba8a856e6"
      },
      "outputs": [
        {
          "output_type": "stream",
          "name": "stdout",
          "text": [
            "cost: 0.32554933428764343\n",
            "epoch: 1/75\n"
          ]
        },
        {
          "output_type": "stream",
          "name": "stderr",
          "text": [
            "100%|██████████| 25/25 [00:15<00:00,  1.63it/s]\n"
          ]
        },
        {
          "output_type": "stream",
          "name": "stdout",
          "text": [
            "cost: 0.25789743661880493\n",
            "epoch: 2/75\n"
          ]
        },
        {
          "output_type": "stream",
          "name": "stderr",
          "text": [
            "100%|██████████| 25/25 [00:10<00:00,  2.42it/s]\n"
          ]
        },
        {
          "output_type": "stream",
          "name": "stdout",
          "text": [
            "cost: 0.24833649396896362\n",
            "epoch: 3/75\n"
          ]
        },
        {
          "output_type": "stream",
          "name": "stderr",
          "text": [
            "100%|██████████| 25/25 [00:06<00:00,  3.78it/s]\n"
          ]
        },
        {
          "output_type": "stream",
          "name": "stdout",
          "text": [
            "cost: 0.24658870697021484\n",
            "epoch: 4/75\n"
          ]
        },
        {
          "output_type": "stream",
          "name": "stderr",
          "text": [
            "100%|██████████| 25/25 [00:05<00:00,  4.91it/s]\n"
          ]
        },
        {
          "output_type": "stream",
          "name": "stdout",
          "text": [
            "cost: 0.24604648351669312\n",
            "epoch: 5/75\n"
          ]
        },
        {
          "output_type": "stream",
          "name": "stderr",
          "text": [
            "100%|██████████| 25/25 [00:05<00:00,  4.33it/s]\n"
          ]
        },
        {
          "output_type": "stream",
          "name": "stdout",
          "text": [
            "cost: 0.24510705471038818\n",
            "epoch: 6/75\n"
          ]
        },
        {
          "output_type": "stream",
          "name": "stderr",
          "text": [
            "100%|██████████| 25/25 [00:06<00:00,  4.00it/s]\n"
          ]
        },
        {
          "output_type": "stream",
          "name": "stdout",
          "text": [
            "cost: 0.2436605840921402\n",
            "epoch: 7/75\n"
          ]
        },
        {
          "output_type": "stream",
          "name": "stderr",
          "text": [
            "100%|██████████| 25/25 [00:05<00:00,  4.40it/s]\n"
          ]
        },
        {
          "output_type": "stream",
          "name": "stdout",
          "text": [
            "cost: 0.2417382150888443\n",
            "epoch: 8/75\n"
          ]
        },
        {
          "output_type": "stream",
          "name": "stderr",
          "text": [
            "100%|██████████| 25/25 [00:06<00:00,  3.76it/s]\n"
          ]
        },
        {
          "output_type": "stream",
          "name": "stdout",
          "text": [
            "cost: 0.24111366271972656\n",
            "epoch: 9/75\n"
          ]
        },
        {
          "output_type": "stream",
          "name": "stderr",
          "text": [
            "100%|██████████| 25/25 [00:05<00:00,  4.62it/s]\n"
          ]
        },
        {
          "output_type": "stream",
          "name": "stdout",
          "text": [
            "cost: 0.24105632305145264\n",
            "epoch: 10/75\n"
          ]
        },
        {
          "output_type": "stream",
          "name": "stderr",
          "text": [
            "100%|██████████| 25/25 [00:06<00:00,  3.94it/s]\n"
          ]
        },
        {
          "output_type": "stream",
          "name": "stdout",
          "text": [
            "cost: 0.24289509654045105\n",
            "epoch: 11/75\n"
          ]
        },
        {
          "output_type": "stream",
          "name": "stderr",
          "text": [
            "100%|██████████| 25/25 [00:05<00:00,  4.43it/s]\n"
          ]
        },
        {
          "output_type": "stream",
          "name": "stdout",
          "text": [
            "cost: 0.2502272427082062\n",
            "epoch: 12/75\n"
          ]
        },
        {
          "output_type": "stream",
          "name": "stderr",
          "text": [
            "100%|██████████| 25/25 [00:06<00:00,  3.89it/s]\n"
          ]
        },
        {
          "output_type": "stream",
          "name": "stdout",
          "text": [
            "cost: 0.24168036878108978\n",
            "epoch: 13/75\n"
          ]
        },
        {
          "output_type": "stream",
          "name": "stderr",
          "text": [
            "100%|██████████| 25/25 [00:05<00:00,  4.24it/s]\n"
          ]
        },
        {
          "output_type": "stream",
          "name": "stdout",
          "text": [
            "cost: 0.23788970708847046\n",
            "epoch: 14/75\n"
          ]
        },
        {
          "output_type": "stream",
          "name": "stderr",
          "text": [
            "100%|██████████| 25/25 [00:05<00:00,  4.59it/s]\n"
          ]
        },
        {
          "output_type": "stream",
          "name": "stdout",
          "text": [
            "cost: 0.253035306930542\n",
            "epoch: 15/75\n"
          ]
        },
        {
          "output_type": "stream",
          "name": "stderr",
          "text": [
            "100%|██████████| 25/25 [00:06<00:00,  3.82it/s]\n"
          ]
        },
        {
          "output_type": "stream",
          "name": "stdout",
          "text": [
            "cost: 0.24098235368728638\n",
            "epoch: 16/75\n"
          ]
        },
        {
          "output_type": "stream",
          "name": "stderr",
          "text": [
            "100%|██████████| 25/25 [00:05<00:00,  4.39it/s]\n"
          ]
        },
        {
          "output_type": "stream",
          "name": "stdout",
          "text": [
            "cost: 0.24271735548973083\n",
            "epoch: 17/75\n"
          ]
        },
        {
          "output_type": "stream",
          "name": "stderr",
          "text": [
            "100%|██████████| 25/25 [00:07<00:00,  3.42it/s]\n"
          ]
        },
        {
          "output_type": "stream",
          "name": "stdout",
          "text": [
            "cost: 0.2454911768436432\n",
            "epoch: 18/75\n"
          ]
        },
        {
          "output_type": "stream",
          "name": "stderr",
          "text": [
            "100%|██████████| 25/25 [00:05<00:00,  4.36it/s]\n"
          ]
        },
        {
          "output_type": "stream",
          "name": "stdout",
          "text": [
            "cost: 0.24468687176704407\n",
            "epoch: 19/75\n"
          ]
        },
        {
          "output_type": "stream",
          "name": "stderr",
          "text": [
            "100%|██████████| 25/25 [00:06<00:00,  3.81it/s]\n"
          ]
        },
        {
          "output_type": "stream",
          "name": "stdout",
          "text": [
            "cost: 0.24452707171440125\n",
            "epoch: 20/75\n"
          ]
        },
        {
          "output_type": "stream",
          "name": "stderr",
          "text": [
            "100%|██████████| 25/25 [00:05<00:00,  4.22it/s]\n"
          ]
        },
        {
          "output_type": "stream",
          "name": "stdout",
          "text": [
            "cost: 0.23876433074474335\n",
            "epoch: 21/75\n"
          ]
        },
        {
          "output_type": "stream",
          "name": "stderr",
          "text": [
            "100%|██████████| 25/25 [00:05<00:00,  4.34it/s]\n"
          ]
        },
        {
          "output_type": "stream",
          "name": "stdout",
          "text": [
            "cost: 0.22486788034439087\n",
            "epoch: 22/75\n"
          ]
        },
        {
          "output_type": "stream",
          "name": "stderr",
          "text": [
            "100%|██████████| 25/25 [00:06<00:00,  4.02it/s]\n"
          ]
        },
        {
          "output_type": "stream",
          "name": "stdout",
          "text": [
            "cost: 0.21926066279411316\n",
            "epoch: 23/75\n"
          ]
        },
        {
          "output_type": "stream",
          "name": "stderr",
          "text": [
            "100%|██████████| 25/25 [00:05<00:00,  4.40it/s]\n"
          ]
        },
        {
          "output_type": "stream",
          "name": "stdout",
          "text": [
            "cost: 0.20937228202819824\n",
            "epoch: 24/75\n"
          ]
        },
        {
          "output_type": "stream",
          "name": "stderr",
          "text": [
            "100%|██████████| 25/25 [00:06<00:00,  3.91it/s]\n"
          ]
        },
        {
          "output_type": "stream",
          "name": "stdout",
          "text": [
            "cost: 0.20308764278888702\n",
            "epoch: 25/75\n"
          ]
        },
        {
          "output_type": "stream",
          "name": "stderr",
          "text": [
            "100%|██████████| 25/25 [00:05<00:00,  4.79it/s]\n"
          ]
        },
        {
          "output_type": "stream",
          "name": "stdout",
          "text": [
            "cost: 0.18659313023090363\n",
            "epoch: 26/75\n"
          ]
        },
        {
          "output_type": "stream",
          "name": "stderr",
          "text": [
            "100%|██████████| 25/25 [00:07<00:00,  3.56it/s]\n"
          ]
        },
        {
          "output_type": "stream",
          "name": "stdout",
          "text": [
            "cost: 0.18265318870544434\n",
            "epoch: 27/75\n"
          ]
        },
        {
          "output_type": "stream",
          "name": "stderr",
          "text": [
            "100%|██████████| 25/25 [00:05<00:00,  4.86it/s]\n"
          ]
        },
        {
          "output_type": "stream",
          "name": "stdout",
          "text": [
            "cost: 0.15014533698558807\n",
            "epoch: 28/75\n"
          ]
        },
        {
          "output_type": "stream",
          "name": "stderr",
          "text": [
            "100%|██████████| 25/25 [00:05<00:00,  4.27it/s]\n"
          ]
        },
        {
          "output_type": "stream",
          "name": "stdout",
          "text": [
            "cost: 0.16018174588680267\n",
            "epoch: 29/75\n"
          ]
        },
        {
          "output_type": "stream",
          "name": "stderr",
          "text": [
            "100%|██████████| 25/25 [00:06<00:00,  3.93it/s]\n"
          ]
        },
        {
          "output_type": "stream",
          "name": "stdout",
          "text": [
            "cost: 0.1479552835226059\n",
            "epoch: 30/75\n"
          ]
        },
        {
          "output_type": "stream",
          "name": "stderr",
          "text": [
            "100%|██████████| 25/25 [00:05<00:00,  4.64it/s]\n"
          ]
        },
        {
          "output_type": "stream",
          "name": "stdout",
          "text": [
            "cost: 0.17007526755332947\n",
            "epoch: 31/75\n"
          ]
        },
        {
          "output_type": "stream",
          "name": "stderr",
          "text": [
            "100%|██████████| 25/25 [00:06<00:00,  3.73it/s]\n"
          ]
        },
        {
          "output_type": "stream",
          "name": "stdout",
          "text": [
            "cost: 0.13190962374210358\n",
            "epoch: 32/75\n"
          ]
        },
        {
          "output_type": "stream",
          "name": "stderr",
          "text": [
            "100%|██████████| 25/25 [00:05<00:00,  4.43it/s]\n"
          ]
        },
        {
          "output_type": "stream",
          "name": "stdout",
          "text": [
            "cost: 0.10470215231180191\n",
            "epoch: 33/75\n"
          ]
        },
        {
          "output_type": "stream",
          "name": "stderr",
          "text": [
            "100%|██████████| 25/25 [00:06<00:00,  3.71it/s]\n"
          ]
        },
        {
          "output_type": "stream",
          "name": "stdout",
          "text": [
            "cost: 0.10689587146043777\n",
            "epoch: 34/75\n"
          ]
        },
        {
          "output_type": "stream",
          "name": "stderr",
          "text": [
            "100%|██████████| 25/25 [00:05<00:00,  4.58it/s]\n"
          ]
        },
        {
          "output_type": "stream",
          "name": "stdout",
          "text": [
            "cost: 0.10198426991701126\n",
            "epoch: 35/75\n"
          ]
        },
        {
          "output_type": "stream",
          "name": "stderr",
          "text": [
            "100%|██████████| 25/25 [00:06<00:00,  3.92it/s]\n"
          ]
        },
        {
          "output_type": "stream",
          "name": "stdout",
          "text": [
            "cost: 0.10239707678556442\n",
            "epoch: 36/75\n"
          ]
        },
        {
          "output_type": "stream",
          "name": "stderr",
          "text": [
            "100%|██████████| 25/25 [00:06<00:00,  3.92it/s]\n"
          ]
        },
        {
          "output_type": "stream",
          "name": "stdout",
          "text": [
            "cost: 0.09761272370815277\n",
            "epoch: 37/75\n"
          ]
        },
        {
          "output_type": "stream",
          "name": "stderr",
          "text": [
            "100%|██████████| 25/25 [00:05<00:00,  4.55it/s]\n"
          ]
        },
        {
          "output_type": "stream",
          "name": "stdout",
          "text": [
            "cost: 0.08851451426744461\n",
            "epoch: 38/75\n"
          ]
        },
        {
          "output_type": "stream",
          "name": "stderr",
          "text": [
            "100%|██████████| 25/25 [00:06<00:00,  3.77it/s]\n"
          ]
        },
        {
          "output_type": "stream",
          "name": "stdout",
          "text": [
            "cost: 0.08176660537719727\n",
            "epoch: 39/75\n"
          ]
        },
        {
          "output_type": "stream",
          "name": "stderr",
          "text": [
            "100%|██████████| 25/25 [00:05<00:00,  4.22it/s]\n"
          ]
        },
        {
          "output_type": "stream",
          "name": "stdout",
          "text": [
            "cost: 0.075362928211689\n",
            "epoch: 40/75\n"
          ]
        },
        {
          "output_type": "stream",
          "name": "stderr",
          "text": [
            "100%|██████████| 25/25 [00:06<00:00,  3.79it/s]\n"
          ]
        },
        {
          "output_type": "stream",
          "name": "stdout",
          "text": [
            "cost: 0.07248811423778534\n",
            "epoch: 41/75\n"
          ]
        },
        {
          "output_type": "stream",
          "name": "stderr",
          "text": [
            "100%|██████████| 25/25 [00:05<00:00,  4.31it/s]\n"
          ]
        },
        {
          "output_type": "stream",
          "name": "stdout",
          "text": [
            "cost: 0.07169719785451889\n",
            "epoch: 42/75\n"
          ]
        },
        {
          "output_type": "stream",
          "name": "stderr",
          "text": [
            "100%|██████████| 25/25 [00:06<00:00,  3.62it/s]\n"
          ]
        },
        {
          "output_type": "stream",
          "name": "stdout",
          "text": [
            "cost: 0.07321228086948395\n",
            "epoch: 43/75\n"
          ]
        },
        {
          "output_type": "stream",
          "name": "stderr",
          "text": [
            "100%|██████████| 25/25 [00:05<00:00,  4.54it/s]\n"
          ]
        },
        {
          "output_type": "stream",
          "name": "stdout",
          "text": [
            "cost: 0.05508166179060936\n",
            "epoch: 44/75\n"
          ]
        },
        {
          "output_type": "stream",
          "name": "stderr",
          "text": [
            "100%|██████████| 25/25 [00:06<00:00,  3.85it/s]\n"
          ]
        },
        {
          "output_type": "stream",
          "name": "stdout",
          "text": [
            "cost: 0.05759982764720917\n",
            "epoch: 45/75\n"
          ]
        },
        {
          "output_type": "stream",
          "name": "stderr",
          "text": [
            "100%|██████████| 25/25 [00:06<00:00,  4.11it/s]\n"
          ]
        },
        {
          "output_type": "stream",
          "name": "stdout",
          "text": [
            "cost: 0.05463651195168495\n",
            "epoch: 46/75\n"
          ]
        },
        {
          "output_type": "stream",
          "name": "stderr",
          "text": [
            "100%|██████████| 25/25 [00:06<00:00,  4.07it/s]\n"
          ]
        },
        {
          "output_type": "stream",
          "name": "stdout",
          "text": [
            "cost: 0.05066819116473198\n",
            "epoch: 47/75\n"
          ]
        },
        {
          "output_type": "stream",
          "name": "stderr",
          "text": [
            "100%|██████████| 25/25 [00:06<00:00,  3.83it/s]\n"
          ]
        },
        {
          "output_type": "stream",
          "name": "stdout",
          "text": [
            "cost: 0.05197950080037117\n",
            "epoch: 48/75\n"
          ]
        },
        {
          "output_type": "stream",
          "name": "stderr",
          "text": [
            "100%|██████████| 25/25 [00:05<00:00,  4.32it/s]\n"
          ]
        },
        {
          "output_type": "stream",
          "name": "stdout",
          "text": [
            "cost: 0.052923787385225296\n",
            "epoch: 49/75\n"
          ]
        },
        {
          "output_type": "stream",
          "name": "stderr",
          "text": [
            "100%|██████████| 25/25 [00:06<00:00,  3.59it/s]\n"
          ]
        },
        {
          "output_type": "stream",
          "name": "stdout",
          "text": [
            "cost: 0.04861845821142197\n",
            "epoch: 50/75\n"
          ]
        },
        {
          "output_type": "stream",
          "name": "stderr",
          "text": [
            "100%|██████████| 25/25 [00:05<00:00,  4.71it/s]\n"
          ]
        },
        {
          "output_type": "stream",
          "name": "stdout",
          "text": [
            "cost: 0.04459491744637489\n",
            "epoch: 51/75\n"
          ]
        },
        {
          "output_type": "stream",
          "name": "stderr",
          "text": [
            "100%|██████████| 25/25 [00:07<00:00,  3.49it/s]\n"
          ]
        },
        {
          "output_type": "stream",
          "name": "stdout",
          "text": [
            "cost: 0.04291897639632225\n",
            "epoch: 52/75\n"
          ]
        },
        {
          "output_type": "stream",
          "name": "stderr",
          "text": [
            "100%|██████████| 25/25 [00:05<00:00,  4.56it/s]\n"
          ]
        },
        {
          "output_type": "stream",
          "name": "stdout",
          "text": [
            "cost: 0.03746510297060013\n",
            "epoch: 53/75\n"
          ]
        },
        {
          "output_type": "stream",
          "name": "stderr",
          "text": [
            "100%|██████████| 25/25 [00:06<00:00,  4.15it/s]\n"
          ]
        },
        {
          "output_type": "stream",
          "name": "stdout",
          "text": [
            "cost: 0.03852337598800659\n",
            "epoch: 54/75\n"
          ]
        },
        {
          "output_type": "stream",
          "name": "stderr",
          "text": [
            "100%|██████████| 25/25 [00:06<00:00,  3.90it/s]\n"
          ]
        },
        {
          "output_type": "stream",
          "name": "stdout",
          "text": [
            "cost: 0.03973730653524399\n",
            "epoch: 55/75\n"
          ]
        },
        {
          "output_type": "stream",
          "name": "stderr",
          "text": [
            "100%|██████████| 25/25 [00:06<00:00,  4.01it/s]\n"
          ]
        },
        {
          "output_type": "stream",
          "name": "stdout",
          "text": [
            "cost: 0.043221987783908844\n",
            "epoch: 56/75\n"
          ]
        },
        {
          "output_type": "stream",
          "name": "stderr",
          "text": [
            "100%|██████████| 25/25 [00:06<00:00,  4.15it/s]\n"
          ]
        },
        {
          "output_type": "stream",
          "name": "stdout",
          "text": [
            "cost: 0.04242199659347534\n",
            "epoch: 57/75\n"
          ]
        },
        {
          "output_type": "stream",
          "name": "stderr",
          "text": [
            "100%|██████████| 25/25 [00:05<00:00,  4.64it/s]\n"
          ]
        },
        {
          "output_type": "stream",
          "name": "stdout",
          "text": [
            "cost: 0.03652046248316765\n",
            "epoch: 58/75\n"
          ]
        },
        {
          "output_type": "stream",
          "name": "stderr",
          "text": [
            "100%|██████████| 25/25 [00:06<00:00,  3.69it/s]\n"
          ]
        },
        {
          "output_type": "stream",
          "name": "stdout",
          "text": [
            "cost: 0.035409148782491684\n",
            "epoch: 59/75\n"
          ]
        },
        {
          "output_type": "stream",
          "name": "stderr",
          "text": [
            "100%|██████████| 25/25 [00:05<00:00,  4.49it/s]\n"
          ]
        },
        {
          "output_type": "stream",
          "name": "stdout",
          "text": [
            "cost: 0.03567177802324295\n",
            "epoch: 60/75\n"
          ]
        },
        {
          "output_type": "stream",
          "name": "stderr",
          "text": [
            "100%|██████████| 25/25 [00:06<00:00,  3.84it/s]\n"
          ]
        },
        {
          "output_type": "stream",
          "name": "stdout",
          "text": [
            "cost: 0.03013521060347557\n",
            "epoch: 61/75\n"
          ]
        },
        {
          "output_type": "stream",
          "name": "stderr",
          "text": [
            "100%|██████████| 25/25 [00:05<00:00,  4.49it/s]\n"
          ]
        },
        {
          "output_type": "stream",
          "name": "stdout",
          "text": [
            "cost: 0.0335807278752327\n",
            "epoch: 62/75\n"
          ]
        },
        {
          "output_type": "stream",
          "name": "stderr",
          "text": [
            "100%|██████████| 25/25 [00:06<00:00,  4.15it/s]\n"
          ]
        },
        {
          "output_type": "stream",
          "name": "stdout",
          "text": [
            "cost: 0.031593065708875656\n",
            "epoch: 63/75\n"
          ]
        },
        {
          "output_type": "stream",
          "name": "stderr",
          "text": [
            "100%|██████████| 25/25 [00:06<00:00,  3.89it/s]\n"
          ]
        },
        {
          "output_type": "stream",
          "name": "stdout",
          "text": [
            "cost: 0.030867641791701317\n",
            "epoch: 64/75\n"
          ]
        },
        {
          "output_type": "stream",
          "name": "stderr",
          "text": [
            "100%|██████████| 25/25 [00:05<00:00,  4.54it/s]\n"
          ]
        },
        {
          "output_type": "stream",
          "name": "stdout",
          "text": [
            "cost: 0.032003164291381836\n",
            "epoch: 65/75\n"
          ]
        },
        {
          "output_type": "stream",
          "name": "stderr",
          "text": [
            "100%|██████████| 25/25 [00:06<00:00,  3.67it/s]\n"
          ]
        },
        {
          "output_type": "stream",
          "name": "stdout",
          "text": [
            "cost: 0.02804628573358059\n",
            "epoch: 66/75\n"
          ]
        },
        {
          "output_type": "stream",
          "name": "stderr",
          "text": [
            "100%|██████████| 25/25 [00:06<00:00,  4.14it/s]\n"
          ]
        },
        {
          "output_type": "stream",
          "name": "stdout",
          "text": [
            "cost: 0.027760088443756104\n",
            "epoch: 67/75\n"
          ]
        },
        {
          "output_type": "stream",
          "name": "stderr",
          "text": [
            "100%|██████████| 25/25 [00:07<00:00,  3.49it/s]\n"
          ]
        },
        {
          "output_type": "stream",
          "name": "stdout",
          "text": [
            "cost: 0.026506543159484863\n",
            "epoch: 68/75\n"
          ]
        },
        {
          "output_type": "stream",
          "name": "stderr",
          "text": [
            "100%|██████████| 25/25 [00:05<00:00,  4.32it/s]\n"
          ]
        },
        {
          "output_type": "stream",
          "name": "stdout",
          "text": [
            "cost: 0.02532636560499668\n",
            "epoch: 69/75\n"
          ]
        },
        {
          "output_type": "stream",
          "name": "stderr",
          "text": [
            "100%|██████████| 25/25 [00:06<00:00,  3.72it/s]\n"
          ]
        },
        {
          "output_type": "stream",
          "name": "stdout",
          "text": [
            "cost: 0.030807707458734512\n",
            "epoch: 70/75\n"
          ]
        },
        {
          "output_type": "stream",
          "name": "stderr",
          "text": [
            "100%|██████████| 25/25 [00:05<00:00,  4.96it/s]\n"
          ]
        },
        {
          "output_type": "stream",
          "name": "stdout",
          "text": [
            "cost: 0.026319412514567375\n",
            "epoch: 71/75\n"
          ]
        },
        {
          "output_type": "stream",
          "name": "stderr",
          "text": [
            "100%|██████████| 25/25 [00:06<00:00,  4.12it/s]\n"
          ]
        },
        {
          "output_type": "stream",
          "name": "stdout",
          "text": [
            "cost: 0.024870676919817924\n",
            "epoch: 72/75\n"
          ]
        },
        {
          "output_type": "stream",
          "name": "stderr",
          "text": [
            "100%|██████████| 25/25 [00:06<00:00,  3.87it/s]\n"
          ]
        },
        {
          "output_type": "stream",
          "name": "stdout",
          "text": [
            "cost: 0.023316694423556328\n",
            "epoch: 73/75\n"
          ]
        },
        {
          "output_type": "stream",
          "name": "stderr",
          "text": [
            "100%|██████████| 25/25 [00:06<00:00,  4.02it/s]\n"
          ]
        },
        {
          "output_type": "stream",
          "name": "stdout",
          "text": [
            "cost: 0.024548878893256187\n",
            "epoch: 74/75\n"
          ]
        },
        {
          "output_type": "stream",
          "name": "stderr",
          "text": [
            "100%|██████████| 25/25 [00:06<00:00,  3.72it/s]\n"
          ]
        },
        {
          "output_type": "stream",
          "name": "stdout",
          "text": [
            "cost: 0.0217891838401556\n",
            "epoch: 75/75\n"
          ]
        },
        {
          "output_type": "stream",
          "name": "stderr",
          "text": [
            "100%|██████████| 25/25 [00:06<00:00,  4.12it/s]"
          ]
        },
        {
          "output_type": "stream",
          "name": "stdout",
          "text": [
            "cost: 0.02333875559270382\n"
          ]
        },
        {
          "output_type": "stream",
          "name": "stderr",
          "text": [
            "\n"
          ]
        }
      ],
      "source": [
        "np.random.seed(1234)\n",
        "random.seed(1234)\n",
        "\n",
        "layers = [\n",
        "    Layer(2, 2, NN.sigmoid, dropout_rate=0),\n",
        "    Layer(2, 1, NN.sigmoid, dropout_rate=0)\n",
        "]\n",
        "\n",
        "nn = NN(NN.mse, layers)\n",
        "\n",
        "X = np.array(random.choices([np.array([0.0, 0.0]),\n",
        "                np.array([0.0, 1.0]),\n",
        "                np.array([1.0, 0.0]),\n",
        "                np.array([1.0, 1.0])], k=100)\n",
        ")\n",
        "Y = np.array([[float(int(a[0]) ^ int(a[1]))] for a in X])\n",
        "\n",
        "nn.fit(X, Y, InexactNewtonOptimizer, epochs=75, batch_size=4, rate=1e-1)"
      ]
    },
    {
      "cell_type": "code",
      "execution_count": 11,
      "metadata": {
        "colab": {
          "base_uri": "https://localhost:8080/",
          "height": 736
        },
        "id": "9s2YKYCFKF3S",
        "outputId": "93ae4d37-32e1-4f73-bfc5-083e993b8d0a"
      },
      "outputs": [
        {
          "output_type": "display_data",
          "data": {
            "text/plain": [
              "<Figure size 1000x800 with 1 Axes>"
            ],
            "image/png": "[encoded data removed]"
          },
          "metadata": {}
        }
      ],
      "source": [
        "fig, ax = plt.subplots(nrows=1, ncols=1, figsize=(10, 8), dpi=100)\n",
        "nn.plot_loss(ax)"
      ]
    },
    {
      "cell_type": "code",
      "execution_count": 12,
      "metadata": {
        "colab": {
          "base_uri": "https://localhost:8080/"
        },
        "id": "9NfLWjdRKHkN",
        "outputId": "c1fd8ef3-02c0-4769-e1a9-f4ebcabdfdf8"
      },
      "outputs": [
        {
          "output_type": "execute_result",
          "data": {
            "text/plain": [
              "Array([  0.6147471 ,   5.8640404 ,   0.44441774,   5.016055  ,\n",
              "        -0.86072874,  -1.5309542 , -25.316517  ,   9.259691  ,\n",
              "         3.0597072 ], dtype=float32)"
            ]
          },
          "metadata": {},
          "execution_count": 12
        }
      ],
      "source": [
        "nn.weights"
      ]
    },
    {
      "cell_type": "code",
      "execution_count": 13,
      "metadata": {
        "colab": {
          "base_uri": "https://localhost:8080/"
        },
        "id": "l25jwhpvKMDq",
        "outputId": "7335ab97-f632-4fb4-811c-2f16cdf4c6ad"
      },
      "outputs": [
        {
          "output_type": "stream",
          "name": "stdout",
          "text": [
            "XOR(0, 0) = [0.05640381]\n",
            "XOR(0, 1) = [0.8790267]\n",
            "XOR(1, 0) = [0.74842125]\n",
            "XOR(1, 1) = [0.1691746]\n"
          ]
        }
      ],
      "source": [
        "print(f'XOR(0, 0) = {nn.predict(np.array([0.0, 0.0]))}')\n",
        "print(f'XOR(0, 1) = {nn.predict(np.array([0.0, 1.0]))}')\n",
        "print(f'XOR(1, 0) = {nn.predict(np.array([1.0, 0.0]))}')\n",
        "print(f'XOR(1, 1) = {nn.predict(np.array([1.0, 1.0]))}')"
      ]
    },
    {
      "cell_type": "markdown",
      "metadata": {
        "id": "wp75akppKOiN"
      },
      "source": [
        "<font size=\"6\" style=\"font-family: Computer Modern\">\n",
        "MNIST\n",
        "</font>"
      ]
    },
    {
      "cell_type": "markdown",
      "metadata": {
        "id": "Q0WgGPCTUPCs"
      },
      "source": []
    },
    {
      "cell_type": "code",
      "execution_count": 14,
      "metadata": {
        "id": "no1bjyERKPUT"
      },
      "outputs": [],
      "source": [
        "train_size = 2500\n",
        "test_size = 1000\n",
        "digits = mnist.train_images()[:train_size] / 255.\n",
        "labels = mnist.train_labels()[:train_size]\n",
        "digits_test = mnist.test_images()[:test_size] / 255.\n",
        "labels_test = mnist.test_labels()[:test_size]"
      ]
    },
    {
      "cell_type": "code",
      "execution_count": 15,
      "metadata": {
        "colab": {
          "base_uri": "https://localhost:8080/",
          "height": 447
        },
        "id": "laoUpB22KSCC",
        "outputId": "c2fd39c4-c1d8-43e0-b2ec-6e454f717e3c"
      },
      "outputs": [
        {
          "output_type": "execute_result",
          "data": {
            "text/plain": [
              "5"
            ]
          },
          "metadata": {},
          "execution_count": 15
        },
        {
          "output_type": "display_data",
          "data": {
            "text/plain": [
              "<Figure size 640x480 with 1 Axes>"
            ],
            "image/png": "[encoded data removed]"
          },
          "metadata": {}
        }
      ],
      "source": [
        "plt.imshow(digits[0]);\n",
        "labels[0]"
      ]
    },
    {
      "cell_type": "code",
      "execution_count": 16,
      "metadata": {
        "id": "A2QCUddBKTg8"
      },
      "outputs": [],
      "source": [
        "def scale_input(X):\n",
        "    return np.array([skimage.transform.rescale(x, 0.25, anti_aliasing=False, preserve_range=True) for x in X])\n",
        "\n",
        "def flatten_input(X):\n",
        "    n = X.shape[0]\n",
        "    return X.reshape((n, -1)).astype(np.float64)\n",
        "\n",
        "def translate_input(X):\n",
        "    return X - 0.5\n",
        "\n",
        "def prepare_input(X):\n",
        "    return translate_input(flatten_input(scale_input(X)))\n",
        "\n",
        "def prepare_labels(Y):\n",
        "    return np.array([[y % 2] for y in Y]).astype(np.float64)"
      ]
    },
    {
      "cell_type": "code",
      "execution_count": 17,
      "metadata": {
        "colab": {
          "base_uri": "https://localhost:8080/",
          "height": 430
        },
        "id": "9mQqDaENKVuB",
        "outputId": "70887176-38e8-47a8-d240-eff906d12ff9"
      },
      "outputs": [
        {
          "output_type": "display_data",
          "data": {
            "text/plain": [
              "<Figure size 640x480 with 1 Axes>"
            ],
            "image/png": "[encoded data removed]"
          },
          "metadata": {}
        }
      ],
      "source": [
        "digits7x7 = np.array([skimage.transform.rescale(digit, 0.25, anti_aliasing=False, preserve_range=True) for digit in digits])\n",
        "plt.imshow(digits7x7[0]);"
      ]
    },
    {
      "cell_type": "code",
      "execution_count": 18,
      "metadata": {
        "colab": {
          "base_uri": "https://localhost:8080/"
        },
        "id": "WJqp1ixPKXRj",
        "outputId": "e4912839-287e-41df-cbaf-e7c950ec3ba9"
      },
      "outputs": [
        {
          "output_type": "stream",
          "name": "stdout",
          "text": [
            "cost: 0.3106206953525543\n",
            "epoch: 1/100\n"
          ]
        },
        {
          "output_type": "stream",
          "name": "stderr",
          "text": [
            "100%|██████████| 25/25 [00:37<00:00,  1.52s/it]\n"
          ]
        },
        {
          "output_type": "stream",
          "name": "stdout",
          "text": [
            "cost: 0.20124156773090363\n",
            "epoch: 2/100\n"
          ]
        },
        {
          "output_type": "stream",
          "name": "stderr",
          "text": [
            "100%|██████████| 25/25 [00:28<00:00,  1.15s/it]\n"
          ]
        },
        {
          "output_type": "stream",
          "name": "stdout",
          "text": [
            "cost: 0.1658424586057663\n",
            "epoch: 3/100\n"
          ]
        },
        {
          "output_type": "stream",
          "name": "stderr",
          "text": [
            "100%|██████████| 25/25 [00:28<00:00,  1.15s/it]\n"
          ]
        },
        {
          "output_type": "stream",
          "name": "stdout",
          "text": [
            "cost: 0.14321501553058624\n",
            "epoch: 4/100\n"
          ]
        },
        {
          "output_type": "stream",
          "name": "stderr",
          "text": [
            "100%|██████████| 25/25 [00:26<00:00,  1.07s/it]\n"
          ]
        },
        {
          "output_type": "stream",
          "name": "stdout",
          "text": [
            "cost: 0.13154451549053192\n",
            "epoch: 5/100\n"
          ]
        },
        {
          "output_type": "stream",
          "name": "stderr",
          "text": [
            "100%|██████████| 25/25 [00:26<00:00,  1.07s/it]\n"
          ]
        },
        {
          "output_type": "stream",
          "name": "stdout",
          "text": [
            "cost: 0.12237922102212906\n",
            "epoch: 6/100\n"
          ]
        },
        {
          "output_type": "stream",
          "name": "stderr",
          "text": [
            "100%|██████████| 25/25 [00:27<00:00,  1.08s/it]\n"
          ]
        },
        {
          "output_type": "stream",
          "name": "stdout",
          "text": [
            "cost: 0.11815483123064041\n",
            "epoch: 7/100\n"
          ]
        },
        {
          "output_type": "stream",
          "name": "stderr",
          "text": [
            "100%|██████████| 25/25 [00:26<00:00,  1.08s/it]\n"
          ]
        },
        {
          "output_type": "stream",
          "name": "stdout",
          "text": [
            "cost: 0.11520734429359436\n",
            "epoch: 8/100\n"
          ]
        },
        {
          "output_type": "stream",
          "name": "stderr",
          "text": [
            "100%|██████████| 25/25 [00:26<00:00,  1.07s/it]\n"
          ]
        },
        {
          "output_type": "stream",
          "name": "stdout",
          "text": [
            "cost: 0.11205873638391495\n",
            "epoch: 9/100\n"
          ]
        },
        {
          "output_type": "stream",
          "name": "stderr",
          "text": [
            "100%|██████████| 25/25 [00:26<00:00,  1.06s/it]\n"
          ]
        },
        {
          "output_type": "stream",
          "name": "stdout",
          "text": [
            "cost: 0.11067880690097809\n",
            "epoch: 10/100\n"
          ]
        },
        {
          "output_type": "stream",
          "name": "stderr",
          "text": [
            "100%|██████████| 25/25 [00:26<00:00,  1.05s/it]\n"
          ]
        },
        {
          "output_type": "stream",
          "name": "stdout",
          "text": [
            "cost: 0.10981371998786926\n",
            "epoch: 11/100\n"
          ]
        },
        {
          "output_type": "stream",
          "name": "stderr",
          "text": [
            "100%|██████████| 25/25 [00:27<00:00,  1.08s/it]\n"
          ]
        },
        {
          "output_type": "stream",
          "name": "stdout",
          "text": [
            "cost: 0.10588166117668152\n",
            "epoch: 12/100\n"
          ]
        },
        {
          "output_type": "stream",
          "name": "stderr",
          "text": [
            "100%|██████████| 25/25 [00:27<00:00,  1.10s/it]\n"
          ]
        },
        {
          "output_type": "stream",
          "name": "stdout",
          "text": [
            "cost: 0.1042938083410263\n",
            "epoch: 13/100\n"
          ]
        },
        {
          "output_type": "stream",
          "name": "stderr",
          "text": [
            "100%|██████████| 25/25 [00:27<00:00,  1.10s/it]\n"
          ]
        },
        {
          "output_type": "stream",
          "name": "stdout",
          "text": [
            "cost: 0.10329239070415497\n",
            "epoch: 14/100\n"
          ]
        },
        {
          "output_type": "stream",
          "name": "stderr",
          "text": [
            "100%|██████████| 25/25 [00:27<00:00,  1.09s/it]\n"
          ]
        },
        {
          "output_type": "stream",
          "name": "stdout",
          "text": [
            "cost: 0.10350799560546875\n",
            "epoch: 15/100\n"
          ]
        },
        {
          "output_type": "stream",
          "name": "stderr",
          "text": [
            "100%|██████████| 25/25 [00:27<00:00,  1.10s/it]\n"
          ]
        },
        {
          "output_type": "stream",
          "name": "stdout",
          "text": [
            "cost: 0.10231010615825653\n",
            "epoch: 16/100\n"
          ]
        },
        {
          "output_type": "stream",
          "name": "stderr",
          "text": [
            "100%|██████████| 25/25 [00:35<00:00,  1.40s/it]\n"
          ]
        },
        {
          "output_type": "stream",
          "name": "stdout",
          "text": [
            "cost: 0.10144617408514023\n",
            "epoch: 17/100\n"
          ]
        },
        {
          "output_type": "stream",
          "name": "stderr",
          "text": [
            "100%|██████████| 25/25 [00:38<00:00,  1.53s/it]\n"
          ]
        },
        {
          "output_type": "stream",
          "name": "stdout",
          "text": [
            "cost: 0.10263488441705704\n",
            "epoch: 18/100\n"
          ]
        },
        {
          "output_type": "stream",
          "name": "stderr",
          "text": [
            "100%|██████████| 25/25 [00:35<00:00,  1.44s/it]\n"
          ]
        },
        {
          "output_type": "stream",
          "name": "stdout",
          "text": [
            "cost: 0.09943030774593353\n",
            "epoch: 19/100\n"
          ]
        },
        {
          "output_type": "stream",
          "name": "stderr",
          "text": [
            "100%|██████████| 25/25 [00:27<00:00,  1.11s/it]\n"
          ]
        },
        {
          "output_type": "stream",
          "name": "stdout",
          "text": [
            "cost: 0.09940259158611298\n",
            "epoch: 20/100\n"
          ]
        },
        {
          "output_type": "stream",
          "name": "stderr",
          "text": [
            "100%|██████████| 25/25 [00:27<00:00,  1.10s/it]\n"
          ]
        },
        {
          "output_type": "stream",
          "name": "stdout",
          "text": [
            "cost: 0.09681230783462524\n",
            "epoch: 21/100\n"
          ]
        },
        {
          "output_type": "stream",
          "name": "stderr",
          "text": [
            "100%|██████████| 25/25 [00:28<00:00,  1.15s/it]\n"
          ]
        },
        {
          "output_type": "stream",
          "name": "stdout",
          "text": [
            "cost: 0.09765830636024475\n",
            "epoch: 22/100\n"
          ]
        },
        {
          "output_type": "stream",
          "name": "stderr",
          "text": [
            "100%|██████████| 25/25 [00:30<00:00,  1.22s/it]\n"
          ]
        },
        {
          "output_type": "stream",
          "name": "stdout",
          "text": [
            "cost: 0.09534062445163727\n",
            "epoch: 23/100\n"
          ]
        },
        {
          "output_type": "stream",
          "name": "stderr",
          "text": [
            "100%|██████████| 25/25 [00:27<00:00,  1.12s/it]\n"
          ]
        },
        {
          "output_type": "stream",
          "name": "stdout",
          "text": [
            "cost: 0.09574421495199203\n",
            "epoch: 24/100\n"
          ]
        },
        {
          "output_type": "stream",
          "name": "stderr",
          "text": [
            "100%|██████████| 25/25 [00:28<00:00,  1.13s/it]\n"
          ]
        },
        {
          "output_type": "stream",
          "name": "stdout",
          "text": [
            "cost: 0.09842514246702194\n",
            "epoch: 25/100\n"
          ]
        },
        {
          "output_type": "stream",
          "name": "stderr",
          "text": [
            "100%|██████████| 25/25 [00:29<00:00,  1.17s/it]\n"
          ]
        },
        {
          "output_type": "stream",
          "name": "stdout",
          "text": [
            "cost: 0.09488847106695175\n",
            "epoch: 26/100\n"
          ]
        },
        {
          "output_type": "stream",
          "name": "stderr",
          "text": [
            "100%|██████████| 25/25 [00:28<00:00,  1.12s/it]\n"
          ]
        },
        {
          "output_type": "stream",
          "name": "stdout",
          "text": [
            "cost: 0.09331998974084854\n",
            "epoch: 27/100\n"
          ]
        },
        {
          "output_type": "stream",
          "name": "stderr",
          "text": [
            "100%|██████████| 25/25 [00:29<00:00,  1.16s/it]\n"
          ]
        },
        {
          "output_type": "stream",
          "name": "stdout",
          "text": [
            "cost: 0.09450292587280273\n",
            "epoch: 28/100\n"
          ]
        },
        {
          "output_type": "stream",
          "name": "stderr",
          "text": [
            "100%|██████████| 25/25 [00:28<00:00,  1.14s/it]\n"
          ]
        },
        {
          "output_type": "stream",
          "name": "stdout",
          "text": [
            "cost: 0.09429692476987839\n",
            "epoch: 29/100\n"
          ]
        },
        {
          "output_type": "stream",
          "name": "stderr",
          "text": [
            "100%|██████████| 25/25 [00:28<00:00,  1.13s/it]\n"
          ]
        },
        {
          "output_type": "stream",
          "name": "stdout",
          "text": [
            "cost: 0.09410262107849121\n",
            "epoch: 30/100\n"
          ]
        },
        {
          "output_type": "stream",
          "name": "stderr",
          "text": [
            "100%|██████████| 25/25 [00:28<00:00,  1.13s/it]\n"
          ]
        },
        {
          "output_type": "stream",
          "name": "stdout",
          "text": [
            "cost: 0.09294530749320984\n",
            "epoch: 31/100\n"
          ]
        },
        {
          "output_type": "stream",
          "name": "stderr",
          "text": [
            "100%|██████████| 25/25 [00:27<00:00,  1.12s/it]\n"
          ]
        },
        {
          "output_type": "stream",
          "name": "stdout",
          "text": [
            "cost: 0.09279650449752808\n",
            "epoch: 32/100\n"
          ]
        },
        {
          "output_type": "stream",
          "name": "stderr",
          "text": [
            "100%|██████████| 25/25 [00:26<00:00,  1.08s/it]\n"
          ]
        },
        {
          "output_type": "stream",
          "name": "stdout",
          "text": [
            "cost: 0.09074129164218903\n",
            "epoch: 33/100\n"
          ]
        },
        {
          "output_type": "stream",
          "name": "stderr",
          "text": [
            "100%|██████████| 25/25 [00:24<00:00,  1.03it/s]\n"
          ]
        },
        {
          "output_type": "stream",
          "name": "stdout",
          "text": [
            "cost: 0.09029806405305862\n",
            "epoch: 34/100\n"
          ]
        },
        {
          "output_type": "stream",
          "name": "stderr",
          "text": [
            "100%|██████████| 25/25 [00:26<00:00,  1.07s/it]\n"
          ]
        },
        {
          "output_type": "stream",
          "name": "stdout",
          "text": [
            "cost: 0.09003135561943054\n",
            "epoch: 35/100\n"
          ]
        },
        {
          "output_type": "stream",
          "name": "stderr",
          "text": [
            "100%|██████████| 25/25 [00:27<00:00,  1.11s/it]\n"
          ]
        },
        {
          "output_type": "stream",
          "name": "stdout",
          "text": [
            "cost: 0.09237290173768997\n",
            "epoch: 36/100\n"
          ]
        },
        {
          "output_type": "stream",
          "name": "stderr",
          "text": [
            "100%|██████████| 25/25 [00:27<00:00,  1.10s/it]\n"
          ]
        },
        {
          "output_type": "stream",
          "name": "stdout",
          "text": [
            "cost: 0.09004620462656021\n",
            "epoch: 37/100\n"
          ]
        },
        {
          "output_type": "stream",
          "name": "stderr",
          "text": [
            "100%|██████████| 25/25 [00:28<00:00,  1.14s/it]\n"
          ]
        },
        {
          "output_type": "stream",
          "name": "stdout",
          "text": [
            "cost: 0.0894441232085228\n",
            "epoch: 38/100\n"
          ]
        },
        {
          "output_type": "stream",
          "name": "stderr",
          "text": [
            "100%|██████████| 25/25 [00:28<00:00,  1.12s/it]\n"
          ]
        },
        {
          "output_type": "stream",
          "name": "stdout",
          "text": [
            "cost: 0.08905281871557236\n",
            "epoch: 39/100\n"
          ]
        },
        {
          "output_type": "stream",
          "name": "stderr",
          "text": [
            "100%|██████████| 25/25 [00:28<00:00,  1.13s/it]\n"
          ]
        },
        {
          "output_type": "stream",
          "name": "stdout",
          "text": [
            "cost: 0.08841671049594879\n",
            "epoch: 40/100\n"
          ]
        },
        {
          "output_type": "stream",
          "name": "stderr",
          "text": [
            "100%|██████████| 25/25 [00:28<00:00,  1.13s/it]\n"
          ]
        },
        {
          "output_type": "stream",
          "name": "stdout",
          "text": [
            "cost: 0.08839071542024612\n",
            "epoch: 41/100\n"
          ]
        },
        {
          "output_type": "stream",
          "name": "stderr",
          "text": [
            "100%|██████████| 25/25 [00:27<00:00,  1.10s/it]\n"
          ]
        },
        {
          "output_type": "stream",
          "name": "stdout",
          "text": [
            "cost: 0.09528234601020813\n",
            "epoch: 42/100\n"
          ]
        },
        {
          "output_type": "stream",
          "name": "stderr",
          "text": [
            "100%|██████████| 25/25 [00:28<00:00,  1.12s/it]\n"
          ]
        },
        {
          "output_type": "stream",
          "name": "stdout",
          "text": [
            "cost: 0.09066025912761688\n",
            "epoch: 43/100\n"
          ]
        },
        {
          "output_type": "stream",
          "name": "stderr",
          "text": [
            "100%|██████████| 25/25 [00:27<00:00,  1.10s/it]\n"
          ]
        },
        {
          "output_type": "stream",
          "name": "stdout",
          "text": [
            "cost: 0.08683996647596359\n",
            "epoch: 44/100\n"
          ]
        },
        {
          "output_type": "stream",
          "name": "stderr",
          "text": [
            "100%|██████████| 25/25 [00:28<00:00,  1.13s/it]\n"
          ]
        },
        {
          "output_type": "stream",
          "name": "stdout",
          "text": [
            "cost: 0.08817842602729797\n",
            "epoch: 45/100\n"
          ]
        },
        {
          "output_type": "stream",
          "name": "stderr",
          "text": [
            "100%|██████████| 25/25 [00:27<00:00,  1.10s/it]\n"
          ]
        },
        {
          "output_type": "stream",
          "name": "stdout",
          "text": [
            "cost: 0.08625549077987671\n",
            "epoch: 46/100\n"
          ]
        },
        {
          "output_type": "stream",
          "name": "stderr",
          "text": [
            "100%|██████████| 25/25 [00:27<00:00,  1.08s/it]\n"
          ]
        },
        {
          "output_type": "stream",
          "name": "stdout",
          "text": [
            "cost: 0.08814460039138794\n",
            "epoch: 47/100\n"
          ]
        },
        {
          "output_type": "stream",
          "name": "stderr",
          "text": [
            "100%|██████████| 25/25 [00:27<00:00,  1.10s/it]\n"
          ]
        },
        {
          "output_type": "stream",
          "name": "stdout",
          "text": [
            "cost: 0.08582641184329987\n",
            "epoch: 48/100\n"
          ]
        },
        {
          "output_type": "stream",
          "name": "stderr",
          "text": [
            "100%|██████████| 25/25 [00:27<00:00,  1.11s/it]\n"
          ]
        },
        {
          "output_type": "stream",
          "name": "stdout",
          "text": [
            "cost: 0.08623703569173813\n",
            "epoch: 49/100\n"
          ]
        },
        {
          "output_type": "stream",
          "name": "stderr",
          "text": [
            "100%|██████████| 25/25 [00:27<00:00,  1.10s/it]\n"
          ]
        },
        {
          "output_type": "stream",
          "name": "stdout",
          "text": [
            "cost: 0.08640782535076141\n",
            "epoch: 50/100\n"
          ]
        },
        {
          "output_type": "stream",
          "name": "stderr",
          "text": [
            "100%|██████████| 25/25 [00:27<00:00,  1.09s/it]\n"
          ]
        },
        {
          "output_type": "stream",
          "name": "stdout",
          "text": [
            "cost: 0.0860888659954071\n",
            "epoch: 51/100\n"
          ]
        },
        {
          "output_type": "stream",
          "name": "stderr",
          "text": [
            "100%|██████████| 25/25 [00:28<00:00,  1.14s/it]\n"
          ]
        },
        {
          "output_type": "stream",
          "name": "stdout",
          "text": [
            "cost: 0.08446229249238968\n",
            "epoch: 52/100\n"
          ]
        },
        {
          "output_type": "stream",
          "name": "stderr",
          "text": [
            "100%|██████████| 25/25 [00:27<00:00,  1.10s/it]\n"
          ]
        },
        {
          "output_type": "stream",
          "name": "stdout",
          "text": [
            "cost: 0.08431660383939743\n",
            "epoch: 53/100\n"
          ]
        },
        {
          "output_type": "stream",
          "name": "stderr",
          "text": [
            "100%|██████████| 25/25 [00:27<00:00,  1.09s/it]\n"
          ]
        },
        {
          "output_type": "stream",
          "name": "stdout",
          "text": [
            "cost: 0.08611619472503662\n",
            "epoch: 54/100\n"
          ]
        },
        {
          "output_type": "stream",
          "name": "stderr",
          "text": [
            "100%|██████████| 25/25 [00:27<00:00,  1.11s/it]\n"
          ]
        },
        {
          "output_type": "stream",
          "name": "stdout",
          "text": [
            "cost: 0.08327262848615646\n",
            "epoch: 55/100\n"
          ]
        },
        {
          "output_type": "stream",
          "name": "stderr",
          "text": [
            "100%|██████████| 25/25 [00:26<00:00,  1.07s/it]\n"
          ]
        },
        {
          "output_type": "stream",
          "name": "stdout",
          "text": [
            "cost: 0.08413853496313095\n",
            "epoch: 56/100\n"
          ]
        },
        {
          "output_type": "stream",
          "name": "stderr",
          "text": [
            "100%|██████████| 25/25 [00:28<00:00,  1.14s/it]\n"
          ]
        },
        {
          "output_type": "stream",
          "name": "stdout",
          "text": [
            "cost: 0.08364008367061615\n",
            "epoch: 57/100\n"
          ]
        },
        {
          "output_type": "stream",
          "name": "stderr",
          "text": [
            "100%|██████████| 25/25 [00:29<00:00,  1.16s/it]\n"
          ]
        },
        {
          "output_type": "stream",
          "name": "stdout",
          "text": [
            "cost: 0.08315952867269516\n",
            "epoch: 58/100\n"
          ]
        },
        {
          "output_type": "stream",
          "name": "stderr",
          "text": [
            "100%|██████████| 25/25 [00:27<00:00,  1.10s/it]\n"
          ]
        },
        {
          "output_type": "stream",
          "name": "stdout",
          "text": [
            "cost: 0.08260326087474823\n",
            "epoch: 59/100\n"
          ]
        },
        {
          "output_type": "stream",
          "name": "stderr",
          "text": [
            "100%|██████████| 25/25 [00:27<00:00,  1.10s/it]\n"
          ]
        },
        {
          "output_type": "stream",
          "name": "stdout",
          "text": [
            "cost: 0.08223887532949448\n",
            "epoch: 60/100\n"
          ]
        },
        {
          "output_type": "stream",
          "name": "stderr",
          "text": [
            "100%|██████████| 25/25 [00:27<00:00,  1.10s/it]\n"
          ]
        },
        {
          "output_type": "stream",
          "name": "stdout",
          "text": [
            "cost: 0.08224260807037354\n",
            "epoch: 61/100\n"
          ]
        },
        {
          "output_type": "stream",
          "name": "stderr",
          "text": [
            "100%|██████████| 25/25 [00:27<00:00,  1.12s/it]\n"
          ]
        },
        {
          "output_type": "stream",
          "name": "stdout",
          "text": [
            "cost: 0.08169759809970856\n",
            "epoch: 62/100\n"
          ]
        },
        {
          "output_type": "stream",
          "name": "stderr",
          "text": [
            "100%|██████████| 25/25 [00:26<00:00,  1.06s/it]\n"
          ]
        },
        {
          "output_type": "stream",
          "name": "stdout",
          "text": [
            "cost: 0.08207028359174728\n",
            "epoch: 63/100\n"
          ]
        },
        {
          "output_type": "stream",
          "name": "stderr",
          "text": [
            "100%|██████████| 25/25 [00:28<00:00,  1.12s/it]\n"
          ]
        },
        {
          "output_type": "stream",
          "name": "stdout",
          "text": [
            "cost: 0.08141763508319855\n",
            "epoch: 64/100\n"
          ]
        },
        {
          "output_type": "stream",
          "name": "stderr",
          "text": [
            "100%|██████████| 25/25 [00:26<00:00,  1.08s/it]\n"
          ]
        },
        {
          "output_type": "stream",
          "name": "stdout",
          "text": [
            "cost: 0.08075368404388428\n",
            "epoch: 65/100\n"
          ]
        },
        {
          "output_type": "stream",
          "name": "stderr",
          "text": [
            "100%|██████████| 25/25 [00:26<00:00,  1.08s/it]\n"
          ]
        },
        {
          "output_type": "stream",
          "name": "stdout",
          "text": [
            "cost: 0.08242882043123245\n",
            "epoch: 66/100\n"
          ]
        },
        {
          "output_type": "stream",
          "name": "stderr",
          "text": [
            "100%|██████████| 25/25 [00:27<00:00,  1.09s/it]\n"
          ]
        },
        {
          "output_type": "stream",
          "name": "stdout",
          "text": [
            "cost: 0.08074983954429626\n",
            "epoch: 67/100\n"
          ]
        },
        {
          "output_type": "stream",
          "name": "stderr",
          "text": [
            "100%|██████████| 25/25 [00:26<00:00,  1.06s/it]\n"
          ]
        },
        {
          "output_type": "stream",
          "name": "stdout",
          "text": [
            "cost: 0.08694882690906525\n",
            "epoch: 68/100\n"
          ]
        },
        {
          "output_type": "stream",
          "name": "stderr",
          "text": [
            "100%|██████████| 25/25 [00:27<00:00,  1.11s/it]\n"
          ]
        },
        {
          "output_type": "stream",
          "name": "stdout",
          "text": [
            "cost: 0.08169110864400864\n",
            "epoch: 69/100\n"
          ]
        },
        {
          "output_type": "stream",
          "name": "stderr",
          "text": [
            "100%|██████████| 25/25 [00:25<00:00,  1.03s/it]\n"
          ]
        },
        {
          "output_type": "stream",
          "name": "stdout",
          "text": [
            "cost: 0.08148109167814255\n",
            "epoch: 70/100\n"
          ]
        },
        {
          "output_type": "stream",
          "name": "stderr",
          "text": [
            "100%|██████████| 25/25 [00:26<00:00,  1.05s/it]\n"
          ]
        },
        {
          "output_type": "stream",
          "name": "stdout",
          "text": [
            "cost: 0.0812239870429039\n",
            "epoch: 71/100\n"
          ]
        },
        {
          "output_type": "stream",
          "name": "stderr",
          "text": [
            "100%|██████████| 25/25 [00:27<00:00,  1.11s/it]\n"
          ]
        },
        {
          "output_type": "stream",
          "name": "stdout",
          "text": [
            "cost: 0.08038762211799622\n",
            "epoch: 72/100\n"
          ]
        },
        {
          "output_type": "stream",
          "name": "stderr",
          "text": [
            "100%|██████████| 25/25 [00:27<00:00,  1.09s/it]\n"
          ]
        },
        {
          "output_type": "stream",
          "name": "stdout",
          "text": [
            "cost: 0.08008107542991638\n",
            "epoch: 73/100\n"
          ]
        },
        {
          "output_type": "stream",
          "name": "stderr",
          "text": [
            "100%|██████████| 25/25 [00:27<00:00,  1.08s/it]\n"
          ]
        },
        {
          "output_type": "stream",
          "name": "stdout",
          "text": [
            "cost: 0.0798124149441719\n",
            "epoch: 74/100\n"
          ]
        },
        {
          "output_type": "stream",
          "name": "stderr",
          "text": [
            "100%|██████████| 25/25 [00:28<00:00,  1.13s/it]\n"
          ]
        },
        {
          "output_type": "stream",
          "name": "stdout",
          "text": [
            "cost: 0.07966969162225723\n",
            "epoch: 75/100\n"
          ]
        },
        {
          "output_type": "stream",
          "name": "stderr",
          "text": [
            "100%|██████████| 25/25 [00:27<00:00,  1.10s/it]\n"
          ]
        },
        {
          "output_type": "stream",
          "name": "stdout",
          "text": [
            "cost: 0.08003072440624237\n",
            "epoch: 76/100\n"
          ]
        },
        {
          "output_type": "stream",
          "name": "stderr",
          "text": [
            "100%|██████████| 25/25 [00:27<00:00,  1.11s/it]\n"
          ]
        },
        {
          "output_type": "stream",
          "name": "stdout",
          "text": [
            "cost: 0.07921777665615082\n",
            "epoch: 77/100\n"
          ]
        },
        {
          "output_type": "stream",
          "name": "stderr",
          "text": [
            "100%|██████████| 25/25 [00:27<00:00,  1.10s/it]\n"
          ]
        },
        {
          "output_type": "stream",
          "name": "stdout",
          "text": [
            "cost: 0.079700767993927\n",
            "epoch: 78/100\n"
          ]
        },
        {
          "output_type": "stream",
          "name": "stderr",
          "text": [
            "100%|██████████| 25/25 [00:27<00:00,  1.10s/it]\n"
          ]
        },
        {
          "output_type": "stream",
          "name": "stdout",
          "text": [
            "cost: 0.07961375266313553\n",
            "epoch: 79/100\n"
          ]
        },
        {
          "output_type": "stream",
          "name": "stderr",
          "text": [
            "100%|██████████| 25/25 [00:27<00:00,  1.09s/it]\n"
          ]
        },
        {
          "output_type": "stream",
          "name": "stdout",
          "text": [
            "cost: 0.08031349629163742\n",
            "epoch: 80/100\n"
          ]
        },
        {
          "output_type": "stream",
          "name": "stderr",
          "text": [
            "100%|██████████| 25/25 [00:27<00:00,  1.11s/it]\n"
          ]
        },
        {
          "output_type": "stream",
          "name": "stdout",
          "text": [
            "cost: 0.07994988560676575\n",
            "epoch: 81/100\n"
          ]
        },
        {
          "output_type": "stream",
          "name": "stderr",
          "text": [
            "100%|██████████| 25/25 [00:27<00:00,  1.09s/it]\n"
          ]
        },
        {
          "output_type": "stream",
          "name": "stdout",
          "text": [
            "cost: 0.07867524772882462\n",
            "epoch: 82/100\n"
          ]
        },
        {
          "output_type": "stream",
          "name": "stderr",
          "text": [
            "100%|██████████| 25/25 [00:28<00:00,  1.13s/it]\n"
          ]
        },
        {
          "output_type": "stream",
          "name": "stdout",
          "text": [
            "cost: 0.07948791235685349\n",
            "epoch: 83/100\n"
          ]
        },
        {
          "output_type": "stream",
          "name": "stderr",
          "text": [
            "100%|██████████| 25/25 [00:27<00:00,  1.10s/it]\n"
          ]
        },
        {
          "output_type": "stream",
          "name": "stdout",
          "text": [
            "cost: 0.07858894020318985\n",
            "epoch: 84/100\n"
          ]
        },
        {
          "output_type": "stream",
          "name": "stderr",
          "text": [
            "100%|██████████| 25/25 [00:28<00:00,  1.12s/it]\n"
          ]
        },
        {
          "output_type": "stream",
          "name": "stdout",
          "text": [
            "cost: 0.07820955663919449\n",
            "epoch: 85/100\n"
          ]
        },
        {
          "output_type": "stream",
          "name": "stderr",
          "text": [
            "100%|██████████| 25/25 [00:26<00:00,  1.07s/it]\n"
          ]
        },
        {
          "output_type": "stream",
          "name": "stdout",
          "text": [
            "cost: 0.07779610902070999\n",
            "epoch: 86/100\n"
          ]
        },
        {
          "output_type": "stream",
          "name": "stderr",
          "text": [
            "100%|██████████| 25/25 [00:26<00:00,  1.08s/it]\n"
          ]
        },
        {
          "output_type": "stream",
          "name": "stdout",
          "text": [
            "cost: 0.07828951627016068\n",
            "epoch: 87/100\n"
          ]
        },
        {
          "output_type": "stream",
          "name": "stderr",
          "text": [
            "100%|██████████| 25/25 [00:28<00:00,  1.14s/it]\n"
          ]
        },
        {
          "output_type": "stream",
          "name": "stdout",
          "text": [
            "cost: 0.07815033197402954\n",
            "epoch: 88/100\n"
          ]
        },
        {
          "output_type": "stream",
          "name": "stderr",
          "text": [
            "100%|██████████| 25/25 [00:27<00:00,  1.11s/it]\n"
          ]
        },
        {
          "output_type": "stream",
          "name": "stdout",
          "text": [
            "cost: 0.07761520892381668\n",
            "epoch: 89/100\n"
          ]
        },
        {
          "output_type": "stream",
          "name": "stderr",
          "text": [
            "100%|██████████| 25/25 [00:27<00:00,  1.11s/it]\n"
          ]
        },
        {
          "output_type": "stream",
          "name": "stdout",
          "text": [
            "cost: 0.07770758122205734\n",
            "epoch: 90/100\n"
          ]
        },
        {
          "output_type": "stream",
          "name": "stderr",
          "text": [
            "100%|██████████| 25/25 [00:26<00:00,  1.08s/it]\n"
          ]
        },
        {
          "output_type": "stream",
          "name": "stdout",
          "text": [
            "cost: 0.07749898731708527\n",
            "epoch: 91/100\n"
          ]
        },
        {
          "output_type": "stream",
          "name": "stderr",
          "text": [
            "100%|██████████| 25/25 [00:27<00:00,  1.09s/it]\n"
          ]
        },
        {
          "output_type": "stream",
          "name": "stdout",
          "text": [
            "cost: 0.07696548849344254\n",
            "epoch: 92/100\n"
          ]
        },
        {
          "output_type": "stream",
          "name": "stderr",
          "text": [
            "100%|██████████| 25/25 [00:25<00:00,  1.00s/it]\n"
          ]
        },
        {
          "output_type": "stream",
          "name": "stdout",
          "text": [
            "cost: 0.07684945315122604\n",
            "epoch: 93/100\n"
          ]
        },
        {
          "output_type": "stream",
          "name": "stderr",
          "text": [
            "100%|██████████| 25/25 [00:26<00:00,  1.06s/it]\n"
          ]
        },
        {
          "output_type": "stream",
          "name": "stdout",
          "text": [
            "cost: 0.07697033137083054\n",
            "epoch: 94/100\n"
          ]
        },
        {
          "output_type": "stream",
          "name": "stderr",
          "text": [
            "100%|██████████| 25/25 [00:27<00:00,  1.09s/it]\n"
          ]
        },
        {
          "output_type": "stream",
          "name": "stdout",
          "text": [
            "cost: 0.07761792093515396\n",
            "epoch: 95/100\n"
          ]
        },
        {
          "output_type": "stream",
          "name": "stderr",
          "text": [
            "100%|██████████| 25/25 [00:27<00:00,  1.09s/it]\n"
          ]
        },
        {
          "output_type": "stream",
          "name": "stdout",
          "text": [
            "cost: 0.07666235417127609\n",
            "epoch: 96/100\n"
          ]
        },
        {
          "output_type": "stream",
          "name": "stderr",
          "text": [
            "100%|██████████| 25/25 [00:27<00:00,  1.11s/it]\n"
          ]
        },
        {
          "output_type": "stream",
          "name": "stdout",
          "text": [
            "cost: 0.07629740983247757\n",
            "epoch: 97/100\n"
          ]
        },
        {
          "output_type": "stream",
          "name": "stderr",
          "text": [
            "100%|██████████| 25/25 [00:27<00:00,  1.11s/it]\n"
          ]
        },
        {
          "output_type": "stream",
          "name": "stdout",
          "text": [
            "cost: 0.07620465010404587\n",
            "epoch: 98/100\n"
          ]
        },
        {
          "output_type": "stream",
          "name": "stderr",
          "text": [
            "100%|██████████| 25/25 [00:28<00:00,  1.16s/it]\n"
          ]
        },
        {
          "output_type": "stream",
          "name": "stdout",
          "text": [
            "cost: 0.07602005451917648\n",
            "epoch: 99/100\n"
          ]
        },
        {
          "output_type": "stream",
          "name": "stderr",
          "text": [
            "100%|██████████| 25/25 [00:28<00:00,  1.16s/it]\n"
          ]
        },
        {
          "output_type": "stream",
          "name": "stdout",
          "text": [
            "cost: 0.07586434483528137\n",
            "epoch: 100/100\n"
          ]
        },
        {
          "output_type": "stream",
          "name": "stderr",
          "text": [
            "100%|██████████| 25/25 [00:28<00:00,  1.14s/it]"
          ]
        },
        {
          "output_type": "stream",
          "name": "stdout",
          "text": [
            "cost: 0.07578551024198532\n"
          ]
        },
        {
          "output_type": "stream",
          "name": "stderr",
          "text": [
            "\n"
          ]
        }
      ],
      "source": [
        "np.random.seed(1234)\n",
        "random.seed(1234)\n",
        "\n",
        "X = prepare_input(digits)\n",
        "Y = prepare_labels(labels)\n",
        "\n",
        "layers = [\n",
        "    Layer(49, 21, NN.ReLU, dropout_rate=0),\n",
        "    Layer(21, 7,  NN.ReLU, dropout_rate=0),\n",
        "    Layer(7, 1, NN.sigmoid, dropout_rate=0),\n",
        "]\n",
        "\n",
        "nn = NN(NN.mse, layers)\n",
        "nn.fit(X, Y, ExactNewtonOptimizer, epochs=100, batch_size=100, rate=2.4e-1, rate_decrease=0.98)"
      ]
    },
    {
      "cell_type": "code",
      "execution_count": 19,
      "metadata": {
        "colab": {
          "base_uri": "https://localhost:8080/"
        },
        "id": "w-LoxneuKfps",
        "outputId": "3b5edcf3-0db4-4d0a-f6fc-bbc98d2e4147"
      },
      "outputs": [
        {
          "output_type": "execute_result",
          "data": {
            "text/plain": [
              "Array([-0.83071226, -0.07747738, -0.22908194, ...,  0.29265362,\n",
              "        0.6964391 ,  0.3570348 ], dtype=float32)"
            ]
          },
          "metadata": {},
          "execution_count": 19
        }
      ],
      "source": [
        "nn.weights"
      ]
    },
    {
      "cell_type": "markdown",
      "metadata": {
        "id": "6rB2uyoQKiVe"
      },
      "source": [
        "Bezpośrednie testy: Wytrenowana sieć rozpoznaje parzyste 0 i nieparzystą 5."
      ]
    },
    {
      "cell_type": "code",
      "execution_count": 20,
      "metadata": {
        "colab": {
          "base_uri": "https://localhost:8080/",
          "height": 447
        },
        "id": "HApZlSIRKhHT",
        "outputId": "0618e568-59be-4532-a3ae-5ae80c325c32"
      },
      "outputs": [
        {
          "output_type": "execute_result",
          "data": {
            "text/plain": [
              "Array([[0.02593087]], dtype=float32)"
            ]
          },
          "metadata": {},
          "execution_count": 20
        },
        {
          "output_type": "display_data",
          "data": {
            "text/plain": [
              "<Figure size 640x480 with 1 Axes>"
            ],
            "image/png": "[encoded data removed]"
          },
          "metadata": {}
        }
      ],
      "source": [
        "idx = 34\n",
        "plt.imshow(digits[idx])\n",
        "inp = np.array([digits7x7[idx].reshape(-1) - 0.5])\n",
        "nn.predict(inp)"
      ]
    },
    {
      "cell_type": "code",
      "execution_count": 21,
      "metadata": {
        "colab": {
          "base_uri": "https://localhost:8080/",
          "height": 447
        },
        "id": "e5cmzmqAKsFR",
        "outputId": "6603e721-feb0-444c-cd80-e4aa92f7d855"
      },
      "outputs": [
        {
          "output_type": "execute_result",
          "data": {
            "text/plain": [
              "Array([[0.9557671]], dtype=float32)"
            ]
          },
          "metadata": {},
          "execution_count": 21
        },
        {
          "output_type": "display_data",
          "data": {
            "text/plain": [
              "<Figure size 640x480 with 1 Axes>"
            ],
            "image/png": "[encoded data removed]"
          },
          "metadata": {}
        }
      ],
      "source": [
        "idx = 35\n",
        "plt.imshow(digits[idx])\n",
        "inp = np.array([digits7x7[idx].reshape(-1) - 0.5])\n",
        "nn.predict(inp)"
      ]
    },
    {
      "cell_type": "code",
      "execution_count": 22,
      "metadata": {
        "colab": {
          "base_uri": "https://localhost:8080/"
        },
        "id": "fTwUHKz8Ktp5",
        "outputId": "eb7ae8d0-a38a-4f9d-a38a-6443b2fe489a"
      },
      "outputs": [
        {
          "output_type": "execute_result",
          "data": {
            "text/plain": [
              "Array(0.11881187, dtype=float32)"
            ]
          },
          "metadata": {},
          "execution_count": 22
        }
      ],
      "source": [
        "Xtest = prepare_input(digits_test)\n",
        "Ytest = prepare_labels(labels_test)\n",
        "\n",
        "nn.evaluate(Xtest, Ytest)"
      ]
    },
    {
      "cell_type": "code",
      "execution_count": 23,
      "metadata": {
        "colab": {
          "base_uri": "https://localhost:8080/"
        },
        "id": "IuFafGiuKvP_",
        "outputId": "44c0cbc9-1ec2-4b19-d700-1eb9ec6fd9ed"
      },
      "outputs": [
        {
          "output_type": "execute_result",
          "data": {
            "text/plain": [
              "Metrics(accuracy=0.84, precision=0.8238532110091743, recall=0.8752436647173489)"
            ]
          },
          "metadata": {},
          "execution_count": 23
        }
      ],
      "source": [
        "Metrics.get(nn, Xtest, Ytest, label_function=lambda x: x > 0.5)"
      ]
    },
    {
      "cell_type": "markdown",
      "metadata": {
        "id": "L78DOwXILC-m"
      },
      "source": [
        "<font size=\"6\" style=\"font-family: Computer Modern\">\n",
        "    \n",
        "Porównanie ze spadkiem wzdłuż gradientu.\n",
        "</font>"
      ]
    },
    {
      "cell_type": "code",
      "execution_count": 24,
      "metadata": {
        "colab": {
          "base_uri": "https://localhost:8080/"
        },
        "id": "4N8CjTzLKxn-",
        "outputId": "74179d8d-c71f-4fc7-bd71-12a2cfe493bf"
      },
      "outputs": [
        {
          "output_type": "stream",
          "name": "stdout",
          "text": [
            "cost: 0.3106206953525543\n",
            "epoch: 1/100\n"
          ]
        },
        {
          "output_type": "stream",
          "name": "stderr",
          "text": [
            "100%|██████████| 25/25 [00:05<00:00,  4.64it/s]\n"
          ]
        },
        {
          "output_type": "stream",
          "name": "stdout",
          "text": [
            "cost: 0.22419953346252441\n",
            "epoch: 2/100\n"
          ]
        },
        {
          "output_type": "stream",
          "name": "stderr",
          "text": [
            "100%|██████████| 25/25 [00:04<00:00,  5.18it/s]\n"
          ]
        },
        {
          "output_type": "stream",
          "name": "stdout",
          "text": [
            "cost: 0.20187731087207794\n",
            "epoch: 3/100\n"
          ]
        },
        {
          "output_type": "stream",
          "name": "stderr",
          "text": [
            "100%|██████████| 25/25 [00:04<00:00,  5.26it/s]\n"
          ]
        },
        {
          "output_type": "stream",
          "name": "stdout",
          "text": [
            "cost: 0.19026702642440796\n",
            "epoch: 4/100\n"
          ]
        },
        {
          "output_type": "stream",
          "name": "stderr",
          "text": [
            "100%|██████████| 25/25 [00:04<00:00,  5.33it/s]\n"
          ]
        },
        {
          "output_type": "stream",
          "name": "stdout",
          "text": [
            "cost: 0.17840279638767242\n",
            "epoch: 5/100\n"
          ]
        },
        {
          "output_type": "stream",
          "name": "stderr",
          "text": [
            "100%|██████████| 25/25 [00:04<00:00,  5.05it/s]\n"
          ]
        },
        {
          "output_type": "stream",
          "name": "stdout",
          "text": [
            "cost: 0.17019079625606537\n",
            "epoch: 6/100\n"
          ]
        },
        {
          "output_type": "stream",
          "name": "stderr",
          "text": [
            "100%|██████████| 25/25 [00:04<00:00,  5.69it/s]\n"
          ]
        },
        {
          "output_type": "stream",
          "name": "stdout",
          "text": [
            "cost: 0.1605299562215805\n",
            "epoch: 7/100\n"
          ]
        },
        {
          "output_type": "stream",
          "name": "stderr",
          "text": [
            "100%|██████████| 25/25 [00:05<00:00,  4.29it/s]\n"
          ]
        },
        {
          "output_type": "stream",
          "name": "stdout",
          "text": [
            "cost: 0.15445798635482788\n",
            "epoch: 8/100\n"
          ]
        },
        {
          "output_type": "stream",
          "name": "stderr",
          "text": [
            "100%|██████████| 25/25 [00:04<00:00,  5.77it/s]\n"
          ]
        },
        {
          "output_type": "stream",
          "name": "stdout",
          "text": [
            "cost: 0.14847539365291595\n",
            "epoch: 9/100\n"
          ]
        },
        {
          "output_type": "stream",
          "name": "stderr",
          "text": [
            "100%|██████████| 25/25 [00:04<00:00,  5.12it/s]\n"
          ]
        },
        {
          "output_type": "stream",
          "name": "stdout",
          "text": [
            "cost: 0.1436203420162201\n",
            "epoch: 10/100\n"
          ]
        },
        {
          "output_type": "stream",
          "name": "stderr",
          "text": [
            "100%|██████████| 25/25 [00:06<00:00,  4.02it/s]\n"
          ]
        },
        {
          "output_type": "stream",
          "name": "stdout",
          "text": [
            "cost: 0.13889841735363007\n",
            "epoch: 11/100\n"
          ]
        },
        {
          "output_type": "stream",
          "name": "stderr",
          "text": [
            "100%|██████████| 25/25 [00:05<00:00,  4.98it/s]\n"
          ]
        },
        {
          "output_type": "stream",
          "name": "stdout",
          "text": [
            "cost: 0.1336129903793335\n",
            "epoch: 12/100\n"
          ]
        },
        {
          "output_type": "stream",
          "name": "stderr",
          "text": [
            "100%|██████████| 25/25 [00:04<00:00,  5.13it/s]\n"
          ]
        },
        {
          "output_type": "stream",
          "name": "stdout",
          "text": [
            "cost: 0.13084200024604797\n",
            "epoch: 13/100\n"
          ]
        },
        {
          "output_type": "stream",
          "name": "stderr",
          "text": [
            "100%|██████████| 25/25 [00:05<00:00,  4.50it/s]\n"
          ]
        },
        {
          "output_type": "stream",
          "name": "stdout",
          "text": [
            "cost: 0.12752510607242584\n",
            "epoch: 14/100\n"
          ]
        },
        {
          "output_type": "stream",
          "name": "stderr",
          "text": [
            "100%|██████████| 25/25 [00:05<00:00,  4.91it/s]\n"
          ]
        },
        {
          "output_type": "stream",
          "name": "stdout",
          "text": [
            "cost: 0.1252504140138626\n",
            "epoch: 15/100\n"
          ]
        },
        {
          "output_type": "stream",
          "name": "stderr",
          "text": [
            "100%|██████████| 25/25 [00:06<00:00,  3.96it/s]\n"
          ]
        },
        {
          "output_type": "stream",
          "name": "stdout",
          "text": [
            "cost: 0.12319782376289368\n",
            "epoch: 16/100\n"
          ]
        },
        {
          "output_type": "stream",
          "name": "stderr",
          "text": [
            "100%|██████████| 25/25 [00:04<00:00,  5.94it/s]\n"
          ]
        },
        {
          "output_type": "stream",
          "name": "stdout",
          "text": [
            "cost: 0.12193366140127182\n",
            "epoch: 17/100\n"
          ]
        },
        {
          "output_type": "stream",
          "name": "stderr",
          "text": [
            "100%|██████████| 25/25 [00:04<00:00,  6.20it/s]\n"
          ]
        },
        {
          "output_type": "stream",
          "name": "stdout",
          "text": [
            "cost: 0.12011713534593582\n",
            "epoch: 18/100\n"
          ]
        },
        {
          "output_type": "stream",
          "name": "stderr",
          "text": [
            "100%|██████████| 25/25 [00:05<00:00,  4.40it/s]\n"
          ]
        },
        {
          "output_type": "stream",
          "name": "stdout",
          "text": [
            "cost: 0.11844295263290405\n",
            "epoch: 19/100\n"
          ]
        },
        {
          "output_type": "stream",
          "name": "stderr",
          "text": [
            "100%|██████████| 25/25 [00:04<00:00,  5.17it/s]\n"
          ]
        },
        {
          "output_type": "stream",
          "name": "stdout",
          "text": [
            "cost: 0.11745569854974747\n",
            "epoch: 20/100\n"
          ]
        },
        {
          "output_type": "stream",
          "name": "stderr",
          "text": [
            "100%|██████████| 25/25 [00:04<00:00,  5.14it/s]\n"
          ]
        },
        {
          "output_type": "stream",
          "name": "stdout",
          "text": [
            "cost: 0.11614973843097687\n",
            "epoch: 21/100\n"
          ]
        },
        {
          "output_type": "stream",
          "name": "stderr",
          "text": [
            "100%|██████████| 25/25 [00:05<00:00,  4.23it/s]\n"
          ]
        },
        {
          "output_type": "stream",
          "name": "stdout",
          "text": [
            "cost: 0.12496768683195114\n",
            "epoch: 22/100\n"
          ]
        },
        {
          "output_type": "stream",
          "name": "stderr",
          "text": [
            "100%|██████████| 25/25 [00:04<00:00,  5.19it/s]\n"
          ]
        },
        {
          "output_type": "stream",
          "name": "stdout",
          "text": [
            "cost: 0.11437481641769409\n",
            "epoch: 23/100\n"
          ]
        },
        {
          "output_type": "stream",
          "name": "stderr",
          "text": [
            "100%|██████████| 25/25 [00:05<00:00,  4.24it/s]\n"
          ]
        },
        {
          "output_type": "stream",
          "name": "stdout",
          "text": [
            "cost: 0.11486437916755676\n",
            "epoch: 24/100\n"
          ]
        },
        {
          "output_type": "stream",
          "name": "stderr",
          "text": [
            "100%|██████████| 25/25 [00:04<00:00,  5.23it/s]\n"
          ]
        },
        {
          "output_type": "stream",
          "name": "stdout",
          "text": [
            "cost: 0.11280515044927597\n",
            "epoch: 25/100\n"
          ]
        },
        {
          "output_type": "stream",
          "name": "stderr",
          "text": [
            "100%|██████████| 25/25 [00:05<00:00,  4.93it/s]\n"
          ]
        },
        {
          "output_type": "stream",
          "name": "stdout",
          "text": [
            "cost: 0.11457426100969315\n",
            "epoch: 26/100\n"
          ]
        },
        {
          "output_type": "stream",
          "name": "stderr",
          "text": [
            "100%|██████████| 25/25 [00:05<00:00,  4.50it/s]\n"
          ]
        },
        {
          "output_type": "stream",
          "name": "stdout",
          "text": [
            "cost: 0.11146248131990433\n",
            "epoch: 27/100\n"
          ]
        },
        {
          "output_type": "stream",
          "name": "stderr",
          "text": [
            "100%|██████████| 25/25 [00:04<00:00,  5.59it/s]\n"
          ]
        },
        {
          "output_type": "stream",
          "name": "stdout",
          "text": [
            "cost: 0.11065673828125\n",
            "epoch: 28/100\n"
          ]
        },
        {
          "output_type": "stream",
          "name": "stderr",
          "text": [
            "100%|██████████| 25/25 [00:04<00:00,  5.11it/s]\n"
          ]
        },
        {
          "output_type": "stream",
          "name": "stdout",
          "text": [
            "cost: 0.11126101016998291\n",
            "epoch: 29/100\n"
          ]
        },
        {
          "output_type": "stream",
          "name": "stderr",
          "text": [
            "100%|██████████| 25/25 [00:05<00:00,  4.34it/s]\n"
          ]
        },
        {
          "output_type": "stream",
          "name": "stdout",
          "text": [
            "cost: 0.11112368851900101\n",
            "epoch: 30/100\n"
          ]
        },
        {
          "output_type": "stream",
          "name": "stderr",
          "text": [
            "100%|██████████| 25/25 [00:04<00:00,  5.23it/s]\n"
          ]
        },
        {
          "output_type": "stream",
          "name": "stdout",
          "text": [
            "cost: 0.11167687922716141\n",
            "epoch: 31/100\n"
          ]
        },
        {
          "output_type": "stream",
          "name": "stderr",
          "text": [
            "100%|██████████| 25/25 [00:05<00:00,  4.67it/s]\n"
          ]
        },
        {
          "output_type": "stream",
          "name": "stdout",
          "text": [
            "cost: 0.10932421684265137\n",
            "epoch: 32/100\n"
          ]
        },
        {
          "output_type": "stream",
          "name": "stderr",
          "text": [
            "100%|██████████| 25/25 [00:05<00:00,  4.93it/s]\n"
          ]
        },
        {
          "output_type": "stream",
          "name": "stdout",
          "text": [
            "cost: 0.10890372097492218\n",
            "epoch: 33/100\n"
          ]
        },
        {
          "output_type": "stream",
          "name": "stderr",
          "text": [
            "100%|██████████| 25/25 [00:04<00:00,  6.06it/s]\n"
          ]
        },
        {
          "output_type": "stream",
          "name": "stdout",
          "text": [
            "cost: 0.10832491517066956\n",
            "epoch: 34/100\n"
          ]
        },
        {
          "output_type": "stream",
          "name": "stderr",
          "text": [
            "100%|██████████| 25/25 [00:05<00:00,  4.66it/s]\n"
          ]
        },
        {
          "output_type": "stream",
          "name": "stdout",
          "text": [
            "cost: 0.10717523843050003\n",
            "epoch: 35/100\n"
          ]
        },
        {
          "output_type": "stream",
          "name": "stderr",
          "text": [
            "100%|██████████| 25/25 [00:05<00:00,  4.99it/s]\n"
          ]
        },
        {
          "output_type": "stream",
          "name": "stdout",
          "text": [
            "cost: 0.10779660195112228\n",
            "epoch: 36/100\n"
          ]
        },
        {
          "output_type": "stream",
          "name": "stderr",
          "text": [
            "100%|██████████| 25/25 [00:04<00:00,  5.31it/s]\n"
          ]
        },
        {
          "output_type": "stream",
          "name": "stdout",
          "text": [
            "cost: 0.10626930743455887\n",
            "epoch: 37/100\n"
          ]
        },
        {
          "output_type": "stream",
          "name": "stderr",
          "text": [
            "100%|██████████| 25/25 [00:06<00:00,  4.11it/s]\n"
          ]
        },
        {
          "output_type": "stream",
          "name": "stdout",
          "text": [
            "cost: 0.1056770384311676\n",
            "epoch: 38/100\n"
          ]
        },
        {
          "output_type": "stream",
          "name": "stderr",
          "text": [
            "100%|██████████| 25/25 [00:04<00:00,  5.18it/s]\n"
          ]
        },
        {
          "output_type": "stream",
          "name": "stdout",
          "text": [
            "cost: 0.10526235401630402\n",
            "epoch: 39/100\n"
          ]
        },
        {
          "output_type": "stream",
          "name": "stderr",
          "text": [
            "100%|██████████| 25/25 [00:05<00:00,  4.72it/s]\n"
          ]
        },
        {
          "output_type": "stream",
          "name": "stdout",
          "text": [
            "cost: 0.10487050563097\n",
            "epoch: 40/100\n"
          ]
        },
        {
          "output_type": "stream",
          "name": "stderr",
          "text": [
            "100%|██████████| 25/25 [00:04<00:00,  5.03it/s]\n"
          ]
        },
        {
          "output_type": "stream",
          "name": "stdout",
          "text": [
            "cost: 0.10421755164861679\n",
            "epoch: 41/100\n"
          ]
        },
        {
          "output_type": "stream",
          "name": "stderr",
          "text": [
            "100%|██████████| 25/25 [00:04<00:00,  5.03it/s]\n"
          ]
        },
        {
          "output_type": "stream",
          "name": "stdout",
          "text": [
            "cost: 0.10385226458311081\n",
            "epoch: 42/100\n"
          ]
        },
        {
          "output_type": "stream",
          "name": "stderr",
          "text": [
            "100%|██████████| 25/25 [00:05<00:00,  4.31it/s]\n"
          ]
        },
        {
          "output_type": "stream",
          "name": "stdout",
          "text": [
            "cost: 0.10428775101900101\n",
            "epoch: 43/100\n"
          ]
        },
        {
          "output_type": "stream",
          "name": "stderr",
          "text": [
            "100%|██████████| 25/25 [00:04<00:00,  5.19it/s]\n"
          ]
        },
        {
          "output_type": "stream",
          "name": "stdout",
          "text": [
            "cost: 0.10304223001003265\n",
            "epoch: 44/100\n"
          ]
        },
        {
          "output_type": "stream",
          "name": "stderr",
          "text": [
            "100%|██████████| 25/25 [00:04<00:00,  5.11it/s]\n"
          ]
        },
        {
          "output_type": "stream",
          "name": "stdout",
          "text": [
            "cost: 0.10280728340148926\n",
            "epoch: 45/100\n"
          ]
        },
        {
          "output_type": "stream",
          "name": "stderr",
          "text": [
            "100%|██████████| 25/25 [00:04<00:00,  5.04it/s]\n"
          ]
        },
        {
          "output_type": "stream",
          "name": "stdout",
          "text": [
            "cost: 0.10244298726320267\n",
            "epoch: 46/100\n"
          ]
        },
        {
          "output_type": "stream",
          "name": "stderr",
          "text": [
            "100%|██████████| 25/25 [00:04<00:00,  5.41it/s]\n"
          ]
        },
        {
          "output_type": "stream",
          "name": "stdout",
          "text": [
            "cost: 0.1031707376241684\n",
            "epoch: 47/100\n"
          ]
        },
        {
          "output_type": "stream",
          "name": "stderr",
          "text": [
            "100%|██████████| 25/25 [00:05<00:00,  4.80it/s]\n"
          ]
        },
        {
          "output_type": "stream",
          "name": "stdout",
          "text": [
            "cost: 0.1022576242685318\n",
            "epoch: 48/100\n"
          ]
        },
        {
          "output_type": "stream",
          "name": "stderr",
          "text": [
            "100%|██████████| 25/25 [00:06<00:00,  3.94it/s]\n"
          ]
        },
        {
          "output_type": "stream",
          "name": "stdout",
          "text": [
            "cost: 0.101748988032341\n",
            "epoch: 49/100\n"
          ]
        },
        {
          "output_type": "stream",
          "name": "stderr",
          "text": [
            "100%|██████████| 25/25 [00:04<00:00,  5.46it/s]\n"
          ]
        },
        {
          "output_type": "stream",
          "name": "stdout",
          "text": [
            "cost: 0.10365307331085205\n",
            "epoch: 50/100\n"
          ]
        },
        {
          "output_type": "stream",
          "name": "stderr",
          "text": [
            "100%|██████████| 25/25 [00:05<00:00,  4.47it/s]\n"
          ]
        },
        {
          "output_type": "stream",
          "name": "stdout",
          "text": [
            "cost: 0.10159153491258621\n",
            "epoch: 51/100\n"
          ]
        },
        {
          "output_type": "stream",
          "name": "stderr",
          "text": [
            "100%|██████████| 25/25 [00:05<00:00,  4.79it/s]\n"
          ]
        },
        {
          "output_type": "stream",
          "name": "stdout",
          "text": [
            "cost: 0.10049193352460861\n",
            "epoch: 52/100\n"
          ]
        },
        {
          "output_type": "stream",
          "name": "stderr",
          "text": [
            "100%|██████████| 25/25 [00:04<00:00,  5.18it/s]\n"
          ]
        },
        {
          "output_type": "stream",
          "name": "stdout",
          "text": [
            "cost: 0.09986963123083115\n",
            "epoch: 53/100\n"
          ]
        },
        {
          "output_type": "stream",
          "name": "stderr",
          "text": [
            "100%|██████████| 25/25 [00:05<00:00,  4.85it/s]\n"
          ]
        },
        {
          "output_type": "stream",
          "name": "stdout",
          "text": [
            "cost: 0.09959593415260315\n",
            "epoch: 54/100\n"
          ]
        },
        {
          "output_type": "stream",
          "name": "stderr",
          "text": [
            "100%|██████████| 25/25 [00:05<00:00,  4.98it/s]\n"
          ]
        },
        {
          "output_type": "stream",
          "name": "stdout",
          "text": [
            "cost: 0.09951192140579224\n",
            "epoch: 55/100\n"
          ]
        },
        {
          "output_type": "stream",
          "name": "stderr",
          "text": [
            "100%|██████████| 25/25 [00:05<00:00,  4.87it/s]\n"
          ]
        },
        {
          "output_type": "stream",
          "name": "stdout",
          "text": [
            "cost: 0.0988384410738945\n",
            "epoch: 56/100\n"
          ]
        },
        {
          "output_type": "stream",
          "name": "stderr",
          "text": [
            "100%|██████████| 25/25 [00:06<00:00,  4.00it/s]\n"
          ]
        },
        {
          "output_type": "stream",
          "name": "stdout",
          "text": [
            "cost: 0.10054156184196472\n",
            "epoch: 57/100\n"
          ]
        },
        {
          "output_type": "stream",
          "name": "stderr",
          "text": [
            "100%|██████████| 25/25 [00:04<00:00,  5.27it/s]\n"
          ]
        },
        {
          "output_type": "stream",
          "name": "stdout",
          "text": [
            "cost: 0.09831037372350693\n",
            "epoch: 58/100\n"
          ]
        },
        {
          "output_type": "stream",
          "name": "stderr",
          "text": [
            "100%|██████████| 25/25 [00:05<00:00,  4.71it/s]\n"
          ]
        },
        {
          "output_type": "stream",
          "name": "stdout",
          "text": [
            "cost: 0.09807825088500977\n",
            "epoch: 59/100\n"
          ]
        },
        {
          "output_type": "stream",
          "name": "stderr",
          "text": [
            "100%|██████████| 25/25 [00:05<00:00,  4.51it/s]\n"
          ]
        },
        {
          "output_type": "stream",
          "name": "stdout",
          "text": [
            "cost: 0.09784853458404541\n",
            "epoch: 60/100\n"
          ]
        },
        {
          "output_type": "stream",
          "name": "stderr",
          "text": [
            "100%|██████████| 25/25 [00:04<00:00,  5.71it/s]\n"
          ]
        },
        {
          "output_type": "stream",
          "name": "stdout",
          "text": [
            "cost: 0.09755661338567734\n",
            "epoch: 61/100\n"
          ]
        },
        {
          "output_type": "stream",
          "name": "stderr",
          "text": [
            "100%|██████████| 25/25 [00:06<00:00,  4.12it/s]\n"
          ]
        },
        {
          "output_type": "stream",
          "name": "stdout",
          "text": [
            "cost: 0.09737133234739304\n",
            "epoch: 62/100\n"
          ]
        },
        {
          "output_type": "stream",
          "name": "stderr",
          "text": [
            "100%|██████████| 25/25 [00:04<00:00,  5.30it/s]\n"
          ]
        },
        {
          "output_type": "stream",
          "name": "stdout",
          "text": [
            "cost: 0.09802331030368805\n",
            "epoch: 63/100\n"
          ]
        },
        {
          "output_type": "stream",
          "name": "stderr",
          "text": [
            "100%|██████████| 25/25 [00:04<00:00,  5.28it/s]\n"
          ]
        },
        {
          "output_type": "stream",
          "name": "stdout",
          "text": [
            "cost: 0.09717079252004623\n",
            "epoch: 64/100\n"
          ]
        },
        {
          "output_type": "stream",
          "name": "stderr",
          "text": [
            "100%|██████████| 25/25 [00:06<00:00,  4.15it/s]\n"
          ]
        },
        {
          "output_type": "stream",
          "name": "stdout",
          "text": [
            "cost: 0.09676376730203629\n",
            "epoch: 65/100\n"
          ]
        },
        {
          "output_type": "stream",
          "name": "stderr",
          "text": [
            "100%|██████████| 25/25 [00:04<00:00,  5.18it/s]\n"
          ]
        },
        {
          "output_type": "stream",
          "name": "stdout",
          "text": [
            "cost: 0.09654677659273148\n",
            "epoch: 66/100\n"
          ]
        },
        {
          "output_type": "stream",
          "name": "stderr",
          "text": [
            "100%|██████████| 25/25 [00:05<00:00,  4.79it/s]\n"
          ]
        },
        {
          "output_type": "stream",
          "name": "stdout",
          "text": [
            "cost: 0.09701339155435562\n",
            "epoch: 67/100\n"
          ]
        },
        {
          "output_type": "stream",
          "name": "stderr",
          "text": [
            "100%|██████████| 25/25 [00:05<00:00,  4.41it/s]\n"
          ]
        },
        {
          "output_type": "stream",
          "name": "stdout",
          "text": [
            "cost: 0.09600085765123367\n",
            "epoch: 68/100\n"
          ]
        },
        {
          "output_type": "stream",
          "name": "stderr",
          "text": [
            "100%|██████████| 25/25 [00:04<00:00,  5.23it/s]\n"
          ]
        },
        {
          "output_type": "stream",
          "name": "stdout",
          "text": [
            "cost: 0.09626869857311249\n",
            "epoch: 69/100\n"
          ]
        },
        {
          "output_type": "stream",
          "name": "stderr",
          "text": [
            "100%|██████████| 25/25 [00:06<00:00,  4.11it/s]\n"
          ]
        },
        {
          "output_type": "stream",
          "name": "stdout",
          "text": [
            "cost: 0.09571632742881775\n",
            "epoch: 70/100\n"
          ]
        },
        {
          "output_type": "stream",
          "name": "stderr",
          "text": [
            "100%|██████████| 25/25 [00:04<00:00,  5.27it/s]\n"
          ]
        },
        {
          "output_type": "stream",
          "name": "stdout",
          "text": [
            "cost: 0.09626098722219467\n",
            "epoch: 71/100\n"
          ]
        },
        {
          "output_type": "stream",
          "name": "stderr",
          "text": [
            "100%|██████████| 25/25 [00:05<00:00,  4.80it/s]\n"
          ]
        },
        {
          "output_type": "stream",
          "name": "stdout",
          "text": [
            "cost: 0.0952223464846611\n",
            "epoch: 72/100\n"
          ]
        },
        {
          "output_type": "stream",
          "name": "stderr",
          "text": [
            "100%|██████████| 25/25 [00:05<00:00,  4.52it/s]\n"
          ]
        },
        {
          "output_type": "stream",
          "name": "stdout",
          "text": [
            "cost: 0.09513916075229645\n",
            "epoch: 73/100\n"
          ]
        },
        {
          "output_type": "stream",
          "name": "stderr",
          "text": [
            "100%|██████████| 25/25 [00:04<00:00,  5.32it/s]\n"
          ]
        },
        {
          "output_type": "stream",
          "name": "stdout",
          "text": [
            "cost: 0.09486372023820877\n",
            "epoch: 74/100\n"
          ]
        },
        {
          "output_type": "stream",
          "name": "stderr",
          "text": [
            "100%|██████████| 25/25 [00:06<00:00,  4.10it/s]\n"
          ]
        },
        {
          "output_type": "stream",
          "name": "stdout",
          "text": [
            "cost: 0.09480495005846024\n",
            "epoch: 75/100\n"
          ]
        },
        {
          "output_type": "stream",
          "name": "stderr",
          "text": [
            "100%|██████████| 25/25 [00:05<00:00,  4.67it/s]\n"
          ]
        },
        {
          "output_type": "stream",
          "name": "stdout",
          "text": [
            "cost: 0.09479336440563202\n",
            "epoch: 76/100\n"
          ]
        },
        {
          "output_type": "stream",
          "name": "stderr",
          "text": [
            "100%|██████████| 25/25 [00:04<00:00,  5.59it/s]\n"
          ]
        },
        {
          "output_type": "stream",
          "name": "stdout",
          "text": [
            "cost: 0.09475076198577881\n",
            "epoch: 77/100\n"
          ]
        },
        {
          "output_type": "stream",
          "name": "stderr",
          "text": [
            "100%|██████████| 25/25 [00:06<00:00,  4.16it/s]\n"
          ]
        },
        {
          "output_type": "stream",
          "name": "stdout",
          "text": [
            "cost: 0.09467824548482895\n",
            "epoch: 78/100\n"
          ]
        },
        {
          "output_type": "stream",
          "name": "stderr",
          "text": [
            "100%|██████████| 25/25 [00:04<00:00,  5.52it/s]\n"
          ]
        },
        {
          "output_type": "stream",
          "name": "stdout",
          "text": [
            "cost: 0.09410953521728516\n",
            "epoch: 79/100\n"
          ]
        },
        {
          "output_type": "stream",
          "name": "stderr",
          "text": [
            "100%|██████████| 25/25 [00:05<00:00,  4.71it/s]\n"
          ]
        },
        {
          "output_type": "stream",
          "name": "stdout",
          "text": [
            "cost: 0.09395693987607956\n",
            "epoch: 80/100\n"
          ]
        },
        {
          "output_type": "stream",
          "name": "stderr",
          "text": [
            "100%|██████████| 25/25 [00:05<00:00,  4.29it/s]\n"
          ]
        },
        {
          "output_type": "stream",
          "name": "stdout",
          "text": [
            "cost: 0.09382569789886475\n",
            "epoch: 81/100\n"
          ]
        },
        {
          "output_type": "stream",
          "name": "stderr",
          "text": [
            "100%|██████████| 25/25 [00:04<00:00,  5.82it/s]\n"
          ]
        },
        {
          "output_type": "stream",
          "name": "stdout",
          "text": [
            "cost: 0.09376952797174454\n",
            "epoch: 82/100\n"
          ]
        },
        {
          "output_type": "stream",
          "name": "stderr",
          "text": [
            "100%|██████████| 25/25 [00:05<00:00,  4.64it/s]\n"
          ]
        },
        {
          "output_type": "stream",
          "name": "stdout",
          "text": [
            "cost: 0.09362064301967621\n",
            "epoch: 83/100\n"
          ]
        },
        {
          "output_type": "stream",
          "name": "stderr",
          "text": [
            "100%|██████████| 25/25 [00:05<00:00,  4.93it/s]\n"
          ]
        },
        {
          "output_type": "stream",
          "name": "stdout",
          "text": [
            "cost: 0.09346719086170197\n",
            "epoch: 84/100\n"
          ]
        },
        {
          "output_type": "stream",
          "name": "stderr",
          "text": [
            "100%|██████████| 25/25 [00:04<00:00,  6.04it/s]\n"
          ]
        },
        {
          "output_type": "stream",
          "name": "stdout",
          "text": [
            "cost: 0.09348493069410324\n",
            "epoch: 85/100\n"
          ]
        },
        {
          "output_type": "stream",
          "name": "stderr",
          "text": [
            "100%|██████████| 25/25 [00:06<00:00,  4.03it/s]\n"
          ]
        },
        {
          "output_type": "stream",
          "name": "stdout",
          "text": [
            "cost: 0.09312054514884949\n",
            "epoch: 86/100\n"
          ]
        },
        {
          "output_type": "stream",
          "name": "stderr",
          "text": [
            "100%|██████████| 25/25 [00:05<00:00,  4.94it/s]\n"
          ]
        },
        {
          "output_type": "stream",
          "name": "stdout",
          "text": [
            "cost: 0.09324400871992111\n",
            "epoch: 87/100\n"
          ]
        },
        {
          "output_type": "stream",
          "name": "stderr",
          "text": [
            "100%|██████████| 25/25 [00:04<00:00,  5.22it/s]\n"
          ]
        },
        {
          "output_type": "stream",
          "name": "stdout",
          "text": [
            "cost: 0.09287995100021362\n",
            "epoch: 88/100\n"
          ]
        },
        {
          "output_type": "stream",
          "name": "stderr",
          "text": [
            "100%|██████████| 25/25 [00:05<00:00,  4.71it/s]\n"
          ]
        },
        {
          "output_type": "stream",
          "name": "stdout",
          "text": [
            "cost: 0.09277550876140594\n",
            "epoch: 89/100\n"
          ]
        },
        {
          "output_type": "stream",
          "name": "stderr",
          "text": [
            "100%|██████████| 25/25 [00:04<00:00,  5.46it/s]\n"
          ]
        },
        {
          "output_type": "stream",
          "name": "stdout",
          "text": [
            "cost: 0.09268288314342499\n",
            "epoch: 90/100\n"
          ]
        },
        {
          "output_type": "stream",
          "name": "stderr",
          "text": [
            "100%|██████████| 25/25 [00:04<00:00,  5.30it/s]\n"
          ]
        },
        {
          "output_type": "stream",
          "name": "stdout",
          "text": [
            "cost: 0.09255772083997726\n",
            "epoch: 91/100\n"
          ]
        },
        {
          "output_type": "stream",
          "name": "stderr",
          "text": [
            "100%|██████████| 25/25 [00:05<00:00,  4.49it/s]\n"
          ]
        },
        {
          "output_type": "stream",
          "name": "stdout",
          "text": [
            "cost: 0.0927637591958046\n",
            "epoch: 92/100\n"
          ]
        },
        {
          "output_type": "stream",
          "name": "stderr",
          "text": [
            "100%|██████████| 25/25 [00:04<00:00,  5.51it/s]\n"
          ]
        },
        {
          "output_type": "stream",
          "name": "stdout",
          "text": [
            "cost: 0.09232863783836365\n",
            "epoch: 93/100\n"
          ]
        },
        {
          "output_type": "stream",
          "name": "stderr",
          "text": [
            "100%|██████████| 25/25 [00:04<00:00,  5.80it/s]\n"
          ]
        },
        {
          "output_type": "stream",
          "name": "stdout",
          "text": [
            "cost: 0.09224066138267517\n",
            "epoch: 94/100\n"
          ]
        },
        {
          "output_type": "stream",
          "name": "stderr",
          "text": [
            "100%|██████████| 25/25 [00:05<00:00,  4.34it/s]\n"
          ]
        },
        {
          "output_type": "stream",
          "name": "stdout",
          "text": [
            "cost: 0.09235208481550217\n",
            "epoch: 95/100\n"
          ]
        },
        {
          "output_type": "stream",
          "name": "stderr",
          "text": [
            "100%|██████████| 25/25 [00:04<00:00,  5.33it/s]\n"
          ]
        },
        {
          "output_type": "stream",
          "name": "stdout",
          "text": [
            "cost: 0.09220940619707108\n",
            "epoch: 96/100\n"
          ]
        },
        {
          "output_type": "stream",
          "name": "stderr",
          "text": [
            "100%|██████████| 25/25 [00:05<00:00,  4.85it/s]\n"
          ]
        },
        {
          "output_type": "stream",
          "name": "stdout",
          "text": [
            "cost: 0.09185441583395004\n",
            "epoch: 97/100\n"
          ]
        },
        {
          "output_type": "stream",
          "name": "stderr",
          "text": [
            "100%|██████████| 25/25 [00:04<00:00,  5.17it/s]\n"
          ]
        },
        {
          "output_type": "stream",
          "name": "stdout",
          "text": [
            "cost: 0.09176995605230331\n",
            "epoch: 98/100\n"
          ]
        },
        {
          "output_type": "stream",
          "name": "stderr",
          "text": [
            "100%|██████████| 25/25 [00:04<00:00,  5.33it/s]\n"
          ]
        },
        {
          "output_type": "stream",
          "name": "stdout",
          "text": [
            "cost: 0.09178121387958527\n",
            "epoch: 99/100\n"
          ]
        },
        {
          "output_type": "stream",
          "name": "stderr",
          "text": [
            "100%|██████████| 25/25 [00:04<00:00,  5.09it/s]\n"
          ]
        },
        {
          "output_type": "stream",
          "name": "stdout",
          "text": [
            "cost: 0.09156642854213715\n",
            "epoch: 100/100\n"
          ]
        },
        {
          "output_type": "stream",
          "name": "stderr",
          "text": [
            "100%|██████████| 25/25 [00:04<00:00,  5.86it/s]"
          ]
        },
        {
          "output_type": "stream",
          "name": "stdout",
          "text": [
            "cost: 0.09150075167417526\n"
          ]
        },
        {
          "output_type": "stream",
          "name": "stderr",
          "text": [
            "\n"
          ]
        }
      ],
      "source": [
        "np.random.seed(1234)\n",
        "random.seed(1234)\n",
        "\n",
        "X = prepare_input(digits)\n",
        "Y = prepare_labels(labels)\n",
        "\n",
        "layers = [\n",
        "    (49, 21, NN.ReLU, 0),\n",
        "    (21, 7, NN.ReLU, 0),\n",
        "    (7, 1, NN.sigmoid, 0),\n",
        "]\n",
        "\n",
        "gnn = NN(NN.mse, layers)\n",
        "gnn.fit(X, Y, AutoGradientOptimizer, epochs=100, batch_size=100, rate=2.4e-1, rate_decrease=0.98)"
      ]
    },
    {
      "cell_type": "code",
      "execution_count": 25,
      "metadata": {
        "colab": {
          "base_uri": "https://localhost:8080/",
          "height": 753
        },
        "id": "OKEcjT9tKzTA",
        "outputId": "a3aaef52-26cf-4933-b9b6-9ca602078f12"
      },
      "outputs": [
        {
          "output_type": "execute_result",
          "data": {
            "text/plain": [
              "<matplotlib.legend.Legend at 0x795979b63a90>"
            ]
          },
          "metadata": {},
          "execution_count": 25
        },
        {
          "output_type": "display_data",
          "data": {
            "text/plain": [
              "<Figure size 1000x800 with 1 Axes>"
            ],
            "image/png": "[encoded data removed]"
          },
          "metadata": {}
        }
      ],
      "source": [
        "fig, ax = plt.subplots(nrows=1, ncols=1, figsize=(10, 8), dpi=100)\n",
        "gnn.plot_loss(ax, label='Gradient descent')\n",
        "nn.plot_loss(ax, label=\"Newton's method\")\n",
        "ax.legend()"
      ]
    },
    {
      "cell_type": "code",
      "execution_count": 26,
      "metadata": {
        "colab": {
          "base_uri": "https://localhost:8080/"
        },
        "id": "1g7VR7bgK1JT",
        "outputId": "e2874ffa-1932-4db7-ddcb-2f0353074a23"
      },
      "outputs": [
        {
          "output_type": "execute_result",
          "data": {
            "text/plain": [
              "Metrics(accuracy=0.835, precision=0.8508064516129032, recall=0.8226120857699805)"
            ]
          },
          "metadata": {},
          "execution_count": 26
        }
      ],
      "source": [
        "Metrics.get(gnn, Xtest, Ytest, label_function=lambda x: x > 0.5)"
      ]
    },
    {
      "cell_type": "markdown",
      "metadata": {
        "id": "Ht_JtrI-K9uC"
      },
      "source": [
        "<font size=\"5\" style=\"font-family: Computer Modern\">\n",
        "    \n",
        "Spadek wzdłuż gradientu jest około 5 razy szybszy od metody Newtona pod względem rzeczywistego czasu uczenia. Jest tak z uwagi na konieczność odwracania macierzy w metodzie Newtona, skaluje się ona znacznie gorzej wraz z rosnącą liczbą parametrów, więc wraz ze stopniem skomplikowania sieci dysproporcja czasów będzie się zwiększać na niekorzyść metody Newtona. Natomiast spadek wzdłuż gradientu zbiega wolniej w przeliczeniu na spadek wartości funkcji straty na jedną epokę. Niestety osiąganie niskich wartości funkcji straty na zbiorze treningowym może nie być opłacalne z uwagi na nadmierne dopasowanie modelu do danych i zmniejszone możliwości generalizacji na danych niezaobserwowanych.\n",
        "</font>"
      ]
    }
  ],
  "metadata": {
    "colab": {
      "provenance": []
    },
    "kernelspec": {
      "display_name": "Python 3",
      "name": "python3"
    },
    "language_info": {
      "name": "python"
    }
  },
  "nbformat": 4,
  "nbformat_minor": 0
}